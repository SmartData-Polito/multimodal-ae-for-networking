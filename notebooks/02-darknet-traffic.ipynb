{
 "cells": [
  {
   "cell_type": "markdown",
   "id": "77de2d6b",
   "metadata": {},
   "source": [
    "# <b>Task02 - Darknet Traffic Analysis</b>"
   ]
  },
  {
   "cell_type": "markdown",
   "id": "96de8fa9",
   "metadata": {},
   "source": [
    "___\n",
    "## Table of Content\n",
    "\n",
    "* Load raw features\n",
    "* Train the multi-modal autoencoder\n",
    "* Train the raw features models\n",
    "* Validate the models\n",
    "* k-nearest-neighbors class probability"
   ]
  },
  {
   "cell_type": "code",
   "execution_count": 18,
   "id": "09238324",
   "metadata": {},
   "outputs": [],
   "source": [
    "# type: ignore\n",
    "\n",
    "from mltoolbox.classification import DeepClassifier, KnnClassifier\n",
    "from mltoolbox.representation import MultimodalAE\n",
    "from sklearn.metrics import classification_report\n",
    "from mltoolbox.metrics import k_class_proba_report\n",
    "from src.utils import get_datasets\n",
    "from keras import layers\n",
    "import pandas as pd\n",
    "import numpy as np\n",
    "import joblib"
   ]
  },
  {
   "cell_type": "code",
   "execution_count": 17,
   "id": "822a33e3",
   "metadata": {},
   "outputs": [],
   "source": [
    "task = 'task02' # Define the task. This variable is used mainly for savings\n",
    "K = 0 # Specify the considered fold (Stratified k fold validation)"
   ]
  },
  {
   "cell_type": "markdown",
   "id": "bd149fc9",
   "metadata": {},
   "source": [
    "## Load raw features\n",
    "\n"
   ]
  },
  {
   "cell_type": "code",
   "execution_count": 10,
   "id": "d4fef5c7",
   "metadata": {},
   "outputs": [],
   "source": [
    "# Load ports word2vec embeddings - entity\n",
    "ports=pd.read_csv(f'../data/{task}/features/ports.csv', index_col=[0])\n",
    "# Load statistics features - quantity\n",
    "statistics=pd.read_csv(f'../data/{task}/features/statistics.csv', index_col=[0])\n",
    "# Load ip address word2vec embeddings - entity\n",
    "ipaddress=pd.read_csv(f'../data/{task}/features/ipaddress.csv', index_col=[0])\n",
    "# Merge the features as raw concatenation\n",
    "concat = ports.reset_index().drop(columns=['label'])\\\n",
    "     .merge(statistics.reset_index().drop(columns=['label']), \n",
    "            on='src_ip', how='inner')\\\n",
    "     .merge(ipaddress.reset_index(), on='src_ip', how='inner')\\\n",
    "     .set_index('src_ip')\n",
    "# Load stratified k folds\n",
    "kfolds = joblib.load(f'../data/{task}/skfolds/folds.save')"
   ]
  },
  {
   "cell_type": "markdown",
   "id": "725db6e5",
   "metadata": {},
   "source": [
    "## Train the multi-modal autoencoder"
   ]
  },
  {
   "cell_type": "code",
   "execution_count": 9,
   "id": "10843b1b",
   "metadata": {},
   "outputs": [],
   "source": [
    "feature, fname = concat, 'mae'\n",
    "# Get the features size. Last column is the label one\n",
    "P,S,I = ports.shape[1]-1, statistics.shape[1]-1, ipaddress.shape[1]-1\n",
    "\n",
    "# Retrieve the training and validation samples from the k-folds order\n",
    "X_train, X_val, y_train, y_val = get_datasets(kfolds, K, feature)"
   ]
  },
  {
   "cell_type": "code",
   "execution_count": 10,
   "id": "59ea1493",
   "metadata": {},
   "outputs": [
    {
     "name": "stderr",
     "output_type": "stream",
     "text": [
      "2022-12-07 13:19:21.163988: W tensorflow/stream_executor/platform/default/dso_loader.cc:64] Could not load dynamic library 'libcuda.so.1'; dlerror: libcuda.so.1: cannot open shared object file: No such file or directory; LD_LIBRARY_PATH: /opt/anaconda3/envs/bigdatalab/lib/libfabric:/usr/local/cuda/lib64\n",
      "2022-12-07 13:19:21.164054: W tensorflow/stream_executor/cuda/cuda_driver.cc:263] failed call to cuInit: UNKNOWN ERROR (303)\n",
      "2022-12-07 13:19:21.164081: I tensorflow/stream_executor/cuda/cuda_diagnostics.cc:156] kernel driver does not appear to be running on this host (vm5-bigdata): /proc/driver/nvidia/version does not exist\n",
      "2022-12-07 13:19:21.164411: I tensorflow/core/platform/cpu_feature_guard.cc:193] This TensorFlow binary is optimized with oneAPI Deep Neural Network Library (oneDNN) to use the following CPU instructions in performance-critical operations:  AVX2 FMA\n",
      "To enable them in other operations, rebuild TensorFlow with the appropriate compiler flags.\n"
     ]
    }
   ],
   "source": [
    "# Define the classifier architecture\n",
    "inputs = layers.Input(X_train.shape[1],)\n",
    "\n",
    "# Encoder branch of modality 1 - ports embeddings\n",
    "hidden1 = layers.Lambda(lambda x: x[:, :P])(inputs)\n",
    "hidden1 = layers.Dense(32, activation='relu')(hidden1)\n",
    "# Encoder branch of modality 2 - statistics\n",
    "hidden2 = layers.Lambda(lambda x: x[:, P:S])(inputs)\n",
    "hidden2 = layers.Dense(32, activation='relu')(hidden2)\n",
    "# Encoder branch of modality 3 - ip address embeddings\n",
    "hidden3 = layers.Lambda(lambda x: x[:, P+S:P+S+I])(inputs)\n",
    "hidden3 = layers.Dense(32, activation='relu')(hidden3)\n",
    "\n",
    "# Concatenate\n",
    "hidden = layers.Concatenate()([hidden1, hidden2, hidden3])\n",
    "# Common encoder\n",
    "hidden = layers.Dense(512, activation='relu')(hidden)\n",
    "hidden = layers.Dense(256, activation='relu')(hidden)\n",
    "# Bottleneck\n",
    "hidden = layers.Dense(64, activation='relu', name='Coded')(hidden)\n",
    "# Common decoder\n",
    "hidden = layers.Dense(256, activation='relu')(hidden)\n",
    "hidden = layers.Dense(512, activation='relu')(hidden)\n",
    "hidden = layers.Dense(32*3, activation='relu')(hidden)\n",
    "\n",
    "hidden1 = layers.Dense(32, activation='relu')(hidden)\n",
    "output1 = layers.Dense(P, activation='linear', name='ports')(hidden1)\n",
    "\n",
    "hidden2 = layers.Dense(32, activation='relu')(hidden)\n",
    "output2 = layers.Dense(S, activation='linear', name='statistics')(hidden2)\n",
    "\n",
    "hidden3 = layers.Dense(32, activation='relu')(hidden)\n",
    "output3 = layers.Dense(I, activation='linear', name='ipaddress')(hidden3)\n",
    "\n",
    "outputs = [output1, output2, output3]\n",
    "\n",
    "# Mean Squared Errors\n",
    "loss = {'ports':'mse', 'statistics':'mse', 'ipaddress':'mse'} \n",
    "weights = {'ports':1/P, 'statistics':1/S, 'ipaddress':1/I} # Balance losses"
   ]
  },
  {
   "cell_type": "code",
   "execution_count": null,
   "id": "7d21ce82",
   "metadata": {},
   "outputs": [],
   "source": [
    "# Initialize the classifier\n",
    "mae = MultimodalAE(model_path=f'../data/{task}/mae/{fname}_k{K}',\n",
    "                   io=(inputs, outputs), losses=loss, weights=weights)\n",
    "# Fit the multi-modal autoencoder\n",
    "mae.fit(training_data=(X_train, X_train), y_sizes=[P, S, I], batch_size=256, \n",
    "        scale_data=True, epochs=3, validation_data=(X_val, X_val), save=True, \n",
    "        verbose=0)\n",
    "embeddings = np.vstack([mae.transform(X_train), mae.transform(X_val)])"
   ]
  },
  {
   "cell_type": "code",
   "execution_count": null,
   "id": "7dfb55e1",
   "metadata": {},
   "outputs": [],
   "source": [
    "# Save the embeddings\n",
    "embeddings = pd.DataFrame(embeddings, index=np.hstack(kfolds[K][:2]))\n",
    "embeddings[['label']] = np.hstack(kfolds[K][2:])\n",
    "embeddings.to_csv(f'../data/{task}/embeddings/mae_embeddings_k{K}.csv')"
   ]
  },
  {
   "cell_type": "markdown",
   "id": "62b5c2e3",
   "metadata": {},
   "source": [
    "## Train the raw-features-models"
   ]
  },
  {
   "cell_type": "code",
   "execution_count": 13,
   "id": "b33236e6",
   "metadata": {},
   "outputs": [],
   "source": [
    "embeddings=pd.read_csv(f'../data/{task}/embeddings/mae_embeddings_k{K}.csv', \n",
    "                       index_col=[0])\n",
    "n_classes = ipaddress.value_counts('label').shape[0]"
   ]
  },
  {
   "cell_type": "code",
   "execution_count": null,
   "id": "87974efc",
   "metadata": {},
   "outputs": [],
   "source": [
    "features = [ports, statistics, ipaddress, concat, embeddings]\n",
    "feature_names = ['ports', 'statistics', 'ipaddress', 'rawcat', 'mae']\n",
    "\n",
    "for feature, fname in zip(features, feature_names):\n",
    "    print(f'\\nTraining {fname} deep classifier')\n",
    "    \n",
    "    # Retrieve the training and validation samples from the k-folds order\n",
    "    X_train, X_val, y_train, y_val = get_datasets(kfolds, K, feature)\n",
    "    # Define the classifier architecture\n",
    "    inputs = layers.Input(X_train.shape[1],)\n",
    "    hidden = layers.Dense(512, activation='relu')(inputs)\n",
    "    hidden = layers.Dropout(.3)(hidden)\n",
    "    hidden = layers.Dense(256, activation='relu')(hidden)\n",
    "    hidden = layers.Dropout(.3)(hidden)\n",
    "    outputs = layers.Dense(n_classes, activation='softmax')(hidden)\n",
    "    # Initialize the classifier\n",
    "    mpath = f'../data/{task}/classifiers/{fname}_k{K}'\n",
    "    classifier = DeepClassifier(io=(inputs, outputs), model_path=mpath)\n",
    "    # Train the classifier for 3 epochs. Standardize data before training\n",
    "    classifier.fit(training_data=(X_train, y_train), \n",
    "                   validation_data=(X_val, y_val), \n",
    "                   scale_data=True, batch_size=256, epochs=3, save=True)"
   ]
  },
  {
   "cell_type": "markdown",
   "id": "df3e42bb",
   "metadata": {},
   "source": [
    "## Validate the models"
   ]
  },
  {
   "cell_type": "code",
   "execution_count": 103,
   "id": "3670704d",
   "metadata": {},
   "outputs": [
    {
     "name": "stderr",
     "output_type": "stream",
     "text": [
      "/opt/anaconda3/envs/bigdatalab_cpu_202212/lib/python3.7/site-packages/sklearn/metrics/_classification.py:1318: UndefinedMetricWarning: Precision and F-score are ill-defined and being set to 0.0 in labels with no predicted samples. Use `zero_division` parameter to control this behavior.\n",
      "  _warn_prf(average, modifier, msg_start, len(result))\n",
      "/opt/anaconda3/envs/bigdatalab_cpu_202212/lib/python3.7/site-packages/sklearn/metrics/_classification.py:1318: UndefinedMetricWarning: Precision and F-score are ill-defined and being set to 0.0 in labels with no predicted samples. Use `zero_division` parameter to control this behavior.\n",
      "  _warn_prf(average, modifier, msg_start, len(result))\n",
      "/opt/anaconda3/envs/bigdatalab_cpu_202212/lib/python3.7/site-packages/sklearn/metrics/_classification.py:1318: UndefinedMetricWarning: Precision and F-score are ill-defined and being set to 0.0 in labels with no predicted samples. Use `zero_division` parameter to control this behavior.\n",
      "  _warn_prf(average, modifier, msg_start, len(result))\n"
     ]
    },
    {
     "name": "stdout",
     "output_type": "stream",
     "text": [
      "\n",
      "Validating ports deep classifier:\n",
      "\tMacro avg f1:0.7537346661897472\n",
      "\n",
      "Validating statistics deep classifier:\n",
      "\tMacro avg f1:0.8506145522148253\n",
      "\n",
      "Validating ipaddress deep classifier:\n",
      "\tMacro avg f1:0.8903880259645202\n",
      "\n",
      "Validating rawcat deep classifier:\n",
      "\tMacro avg f1:0.9147246398146704\n",
      "\n",
      "Validating mae deep classifier:\n",
      "\tMacro avg f1:0.8215870555870808\n"
     ]
    }
   ],
   "source": [
    "features = [ports, statistics, ipaddress, concat, embeddings]\n",
    "feature_names = ['ports', 'statistics', 'ipaddress', 'rawcat', 'mae']\n",
    "\n",
    "for feature, fname in zip(features, feature_names):\n",
    "    # Retrieve the training and validation samples from the k-folds order\n",
    "    X_train, X_val, y_train, y_val = get_datasets(kfolds, K, feature)\n",
    "    mpath = f'../data/{task}/classifiers/{fname}_k{K}'\n",
    "    classifier = DeepClassifier(_load_model=True, model_path=mpath)\n",
    "    y_pred = classifier.predict(X_val, scale_data=True)\n",
    "    report = classification_report(y_val, y_pred, labels=np.unique(y_val), \n",
    "                                   output_dict=True)\n",
    "\n",
    "    f1 = report['macro avg']['f1-score']\n",
    "    \n",
    "    pd.DataFrame(report).T.to_csv(f'../data/interim/{fname}_deep_k{K}.csv')\n",
    "    print(f'\\nValidating {fname} deep classifier:\\n\\tMacro avg f1:{f1}')"
   ]
  },
  {
   "cell_type": "markdown",
   "id": "1c1771e2",
   "metadata": {},
   "source": [
    "## k-nearest-neighbors class probability</b>"
   ]
  },
  {
   "cell_type": "code",
   "execution_count": null,
   "id": "daa16574",
   "metadata": {},
   "outputs": [],
   "source": [
    "features = [concat, embeddings]\n",
    "feature_names = ['rawcat', 'mae']\n",
    "for feature, fname in zip(features, feature_names):\n",
    "    for k in range(1, 20):\n",
    "        # Retrieve the training and validation samples from the k-folds order\n",
    "        X_train, X_val, y_train, y_val = get_datasets(kfolds, K, feature)\n",
    "        X, y = np.vstack([X_train, X_val]), np.hstack([y_train, y_val])\n",
    "        \n",
    "        knn = KnnClassifier(n_neighbors=k, metric='cosine')\n",
    "        knn.fit(X, y, scale_data=True)\n",
    "\n",
    "        to_keep = np.where(y!='unknown')[0].reshape(-1, 1)\n",
    "        pcs = knn.predict_proba(to_keep)\n",
    "        \n",
    "        y_true = y[np.ravel(to_keep)]\n",
    "        report = k_class_proba_report(y_true, pcs, output_dict=True)\n",
    "        \n",
    "        kpc = report['macro avg']['kpc']\n",
    "\n",
    "        pd.DataFrame(report).T.to_csv(f'../data/interim/{fname}_{k}pc_k{K}.csv')\n",
    "        print(f'\\nMacro avg {k}Pc - {fname}: {kpc}')"
   ]
  }
 ],
 "metadata": {
  "kernelspec": {
   "display_name": "Python 3 (ipykernel)",
   "language": "python",
   "name": "python3"
  },
  "language_info": {
   "codemirror_mode": {
    "name": "ipython",
    "version": 3
   },
   "file_extension": ".py",
   "mimetype": "text/x-python",
   "name": "python",
   "nbconvert_exporter": "python",
   "pygments_lexer": "ipython3",
   "version": "3.7.9"
  },
  "vscode": {
   "interpreter": {
    "hash": "7752e352c355b3ac8de75594c3972c357c3b0b08f713d3e5a9c1d8631c75ec52"
   }
  }
 },
 "nbformat": 4,
 "nbformat_minor": 5
}
