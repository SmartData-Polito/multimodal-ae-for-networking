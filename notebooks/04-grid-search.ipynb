{
 "cells": [
  {
   "cell_type": "markdown",
   "id": "77de2d6b",
   "metadata": {},
   "source": [
    "# <b>Grid Search</b>"
   ]
  },
  {
   "cell_type": "markdown",
   "id": "96de8fa9",
   "metadata": {},
   "source": [
    "___\n",
    "## Table of Content\n",
    "\n",
    "* Load raw features\n",
    "* Train the multi-modal autoencoder\n",
    "* Train the raw features models\n",
    "* Validate the models\n",
    "* k-nearest-neighbors class probability"
   ]
  },
  {
   "cell_type": "code",
   "execution_count": 1,
   "id": "09238324",
   "metadata": {},
   "outputs": [
    {
     "name": "stderr",
     "output_type": "stream",
     "text": [
      "2022-12-08 17:51:42.241710: I tensorflow/core/platform/cpu_feature_guard.cc:193] This TensorFlow binary is optimized with oneAPI Deep Neural Network Library (oneDNN) to use the following CPU instructions in performance-critical operations:  AVX2 FMA\n",
      "To enable them in other operations, rebuild TensorFlow with the appropriate compiler flags.\n",
      "2022-12-08 17:51:42.569022: W tensorflow/stream_executor/platform/default/dso_loader.cc:64] Could not load dynamic library 'libcudart.so.11.0'; dlerror: libcudart.so.11.0: cannot open shared object file: No such file or directory; LD_LIBRARY_PATH: /opt/anaconda3/envs/bigdatalab/lib/libfabric:/usr/local/cuda/lib64\n",
      "2022-12-08 17:51:42.569059: I tensorflow/stream_executor/cuda/cudart_stub.cc:29] Ignore above cudart dlerror if you do not have a GPU set up on your machine.\n",
      "2022-12-08 17:51:42.620525: E tensorflow/stream_executor/cuda/cuda_blas.cc:2981] Unable to register cuBLAS factory: Attempting to register factory for plugin cuBLAS when one has already been registered\n",
      "2022-12-08 17:51:51.437030: W tensorflow/stream_executor/platform/default/dso_loader.cc:64] Could not load dynamic library 'libnvinfer.so.7'; dlerror: libnvinfer.so.7: cannot open shared object file: No such file or directory; LD_LIBRARY_PATH: /opt/anaconda3/envs/bigdatalab/lib/libfabric:/usr/local/cuda/lib64\n",
      "2022-12-08 17:51:51.437261: W tensorflow/stream_executor/platform/default/dso_loader.cc:64] Could not load dynamic library 'libnvinfer_plugin.so.7'; dlerror: libnvinfer_plugin.so.7: cannot open shared object file: No such file or directory; LD_LIBRARY_PATH: /opt/anaconda3/envs/bigdatalab/lib/libfabric:/usr/local/cuda/lib64\n",
      "2022-12-08 17:51:51.437277: W tensorflow/compiler/tf2tensorrt/utils/py_utils.cc:38] TF-TRT Warning: Cannot dlopen some TensorRT libraries. If you would like to use Nvidia GPU with TensorRT, please make sure the missing libraries mentioned above are installed properly.\n"
     ]
    }
   ],
   "source": [
    "# type: ignore\n",
    "\n",
    "from mltoolbox.classification import DeepClassifier, KnnClassifier\n",
    "from mltoolbox.representation import MultimodalAE\n",
    "from sklearn.metrics import classification_report\n",
    "from mltoolbox.metrics import k_class_proba_report, silhouette_report\n",
    "from src.utils import get_datasets\n",
    "from keras import layers\n",
    "import pandas as pd\n",
    "import numpy as np\n",
    "import joblib"
   ]
  },
  {
   "cell_type": "code",
   "execution_count": 2,
   "id": "822a33e3",
   "metadata": {},
   "outputs": [],
   "source": [
    "task = 'task01' # Define the task. This variable is used mainly for savings\n",
    "K = 0 # Specify the considered fold (Stratified k fold validation)"
   ]
  },
  {
   "cell_type": "markdown",
   "id": "bd149fc9",
   "metadata": {},
   "source": [
    "## Load raw features\n",
    "\n"
   ]
  },
  {
   "cell_type": "code",
   "execution_count": 3,
   "id": "d4fef5c7",
   "metadata": {},
   "outputs": [],
   "source": [
    "# Load ports word2vec embeddings - entity\n",
    "payload=pd.read_csv(f'../data/{task}/features/payload.csv', index_col=[0])\n",
    "#payload=payload.replace({-1:0})\n",
    "# Load statistics features - quantity\n",
    "statistics=pd.read_csv(f'../data/{task}/features/statistics.csv', index_col=[0])\n",
    "# Load statistics sequences - quantity\n",
    "sequences=pd.read_csv(f'../data/{task}/features/sequences.csv', index_col=[0])\n",
    "# Load ip address word2vec embeddings - entity\n",
    "ipaddress=pd.read_csv(f'../data/{task}/features/ipaddress.csv', index_col=[0])\n",
    "# Merge the features as raw concatenation\n",
    "concat = payload.reset_index().drop(columns=['label'])\\\n",
    "     .merge(statistics.reset_index().drop(columns=['label']), \n",
    "            on='index', how='inner')\\\n",
    "     .merge(sequences.reset_index().drop(columns=['label']), \n",
    "            on='index', how='inner')\\\n",
    "     .merge(ipaddress.reset_index(), on='index', how='inner')\\\n",
    "     .set_index('index')\n",
    "# Load stratified k folds\n",
    "kfolds = joblib.load(f'../data/{task}/skfolds/folds.save')"
   ]
  },
  {
   "cell_type": "code",
   "execution_count": 13,
   "id": "2147fc16",
   "metadata": {},
   "outputs": [],
   "source": [
    "feature, fname = concat, 'mae'\n",
    "# Get the features size. Last column is the label one\n",
    "P,St,Se,I = payload.shape[1]-1, statistics.shape[1]-1, \\\n",
    "            sequences.shape[1]-1, ipaddress.shape[1]-1\n",
    "\n",
    "# Retrieve the training and validation samples from the k-folds order\n",
    "X_train, X_val, y_train, y_val = get_datasets(kfolds, K, feature)\n",
    "X_train, X_val, y_train, y_val = X_train[:100], X_val[:100], y_train[:100], y_val[:100]"
   ]
  },
  {
   "cell_type": "code",
   "execution_count": 14,
   "id": "59ea1493",
   "metadata": {},
   "outputs": [],
   "source": [
    "def build_model(shapes, l1, l4):\n",
    "    input_shape, P, St, Se, I = shapes\n",
    "    # Define the classifier architecture\n",
    "    inputs = layers.Input(input_shape,)\n",
    "\n",
    "    # Encoder branch of modality 1 - payload embeddings\n",
    "    hidden1 = layers.Lambda(lambda x: x[:, :P])(inputs)\n",
    "    hidden1 = layers.Reshape((-1, 1))(hidden1)\n",
    "    hidden1 = layers.Dense(64, activation='relu')(hidden1)\n",
    "    hidden1 = layers.Conv1D(32, 3, activation='relu')(hidden1)\n",
    "    hidden1 = layers.Dropout(.3)(hidden1)\n",
    "    hidden1 = layers.MaxPooling1D(2)(hidden1)\n",
    "    hidden1 = layers.Dropout(.3)(hidden1)\n",
    "    hidden1 = layers.Flatten()(hidden1)\n",
    "    hidden1 = layers.Dense(l1, activation='relu')(hidden1)\n",
    "\n",
    "    # Encoder branch of modality 2 - statistics\n",
    "    hidden2 = layers.Lambda(lambda x: x[:, P:St])(inputs)\n",
    "    hidden2 = layers.Dense(l1, activation='relu')(hidden2)\n",
    "\n",
    "    # Encoder branch of modality 3 - sequences\n",
    "    hidden3 = layers.Lambda(lambda x: x[:, P+St:P+St+Se])(inputs)\n",
    "    hidden3 = layers.Reshape((32, 4))(hidden3)\n",
    "    hidden3 = layers.Conv1D(32, 3, activation='relu')(hidden3)\n",
    "    hidden3 = layers.Dropout(.3)(hidden3)\n",
    "    hidden3 = layers.MaxPooling1D(2)(hidden3)\n",
    "    hidden3 = layers.Dropout(.3)(hidden3)\n",
    "    hidden3 = layers.Flatten()(hidden3)\n",
    "    hidden3 = layers.Dense(l1, activation='relu')(hidden3)\n",
    "\n",
    "    # Encoder branch of modality 4 - ip address embeddings\n",
    "    hidden4 = layers.Lambda(lambda x: x[:, P+St+Se:P+St+Se+I])(inputs)\n",
    "    hidden4 = layers.Dense(l1, activation='relu')(hidden4)\n",
    "\n",
    "    # Concatenate\n",
    "    hidden = layers.Concatenate()([hidden1, hidden2, hidden3, hidden4])\n",
    "    # Common encoder\n",
    "    hidden = layers.Dense(512, activation='relu')(hidden)\n",
    "    hidden = layers.Dense(256, activation='relu')(hidden)\n",
    "    # Bottleneck\n",
    "    hidden = layers.Dense(l4, activation='relu', name='Coded')(hidden)\n",
    "    # Common decoder\n",
    "    hidden = layers.Dense(256, activation='relu')(hidden)\n",
    "    hidden = layers.Dense(512, activation='relu')(hidden)\n",
    "    hidden = layers.Dense(l1*4, activation='relu')(hidden)\n",
    "\n",
    "    hidden1 = layers.Dense(l1, activation='relu')(hidden)\n",
    "    hidden1 = layers.Dense(480, activation='relu')(hidden1)\n",
    "    hidden1 = layers.Reshape((15, 32))(hidden1)\n",
    "    hidden1 = layers.Conv1D(32, 3, strides=2, activation=\"relu\", padding=\"same\")(hidden1)\n",
    "    hidden1 = layers.UpSampling1D(2)(hidden1)\n",
    "    hidden1 = layers.Conv1D(4, 3, activation=\"relu\", padding=\"same\")(hidden1)\n",
    "    hidden1 = layers.UpSampling1D(2)(hidden1)\n",
    "    hidden1 = layers.Flatten()(hidden1)\n",
    "    output1 = layers.Dense(P, activation='linear', name='payload')(hidden1)\n",
    "\n",
    "    hidden2 = layers.Dense(l1, activation='relu')(hidden)\n",
    "    output2 = layers.Dense(St, activation='linear', name='statistics')(hidden2)\n",
    "\n",
    "    hidden3 = layers.Dense(l1, activation='relu')(hidden)\n",
    "    hidden3 = layers.Dense(480, activation='relu')(hidden3)\n",
    "    hidden3 = layers.Reshape((15, 32))(hidden3)\n",
    "    hidden3 = layers.Conv1D(32, 3, strides=2, activation=\"relu\", padding=\"same\")(hidden3)\n",
    "    hidden3 = layers.UpSampling1D(2)(hidden3)\n",
    "    hidden3 = layers.Conv1D(4, 3, activation=\"relu\", padding=\"same\")(hidden3)\n",
    "    hidden3 = layers.UpSampling1D(2)(hidden3)\n",
    "    hidden3 = layers.Flatten()(hidden3)\n",
    "    output3 = layers.Dense(Se, activation='linear', name='sequences')(hidden3)\n",
    "\n",
    "    hidden4 = layers.Dense(l1, activation='relu')(hidden)\n",
    "    output4 = layers.Dense(I, activation='linear', name='ipaddress')(hidden4)\n",
    "\n",
    "    outputs = [output1, output2, output3, output4]\n",
    "\n",
    "    # Mean Squared Errors\n",
    "    loss = {'payload':'mse', 'statistics':'mse', 'sequences':'mse', 'ipaddress':'mse'} \n",
    "    weights = {'payload':1/P, 'statistics':1/St, 'sequences':1/Se, 'ipaddress':1/I}\n",
    "\n",
    "    return inputs, outputs, loss, weights"
   ]
  },
  {
   "cell_type": "markdown",
   "id": "725db6e5",
   "metadata": {},
   "source": [
    "## Train the multi-modal autoencoder"
   ]
  },
  {
   "cell_type": "code",
   "execution_count": 25,
   "id": "7d21ce82",
   "metadata": {},
   "outputs": [
    {
     "name": "stdout",
     "output_type": "stream",
     "text": [
      "Epoch 1/3\n",
      "WARNING:tensorflow:AutoGraph could not transform <function Model.make_train_function.<locals>.train_function at 0x7f78182064d0> and will run it as-is.\n",
      "Please report this to the TensorFlow team. When filing the bug, set the verbosity to 10 (on Linux, `export AUTOGRAPH_VERBOSITY=10`) and attach the full output.\n",
      "Cause: 'arguments' object has no attribute 'posonlyargs'\n",
      "To silence this warning, decorate the function with @tf.autograph.experimental.do_not_convert\n"
     ]
    },
    {
     "name": "stderr",
     "output_type": "stream",
     "text": [
      "WARNING:tensorflow:AutoGraph could not transform <function Model.make_train_function.<locals>.train_function at 0x7f78182064d0> and will run it as-is.\n",
      "Please report this to the TensorFlow team. When filing the bug, set the verbosity to 10 (on Linux, `export AUTOGRAPH_VERBOSITY=10`) and attach the full output.\n",
      "Cause: 'arguments' object has no attribute 'posonlyargs'\n",
      "To silence this warning, decorate the function with @tf.autograph.experimental.do_not_convert\n"
     ]
    },
    {
     "name": "stdout",
     "output_type": "stream",
     "text": [
      "WARNING: AutoGraph could not transform <function Model.make_train_function.<locals>.train_function at 0x7f78182064d0> and will run it as-is.\n",
      "Please report this to the TensorFlow team. When filing the bug, set the verbosity to 10 (on Linux, `export AUTOGRAPH_VERBOSITY=10`) and attach the full output.\n",
      "Cause: 'arguments' object has no attribute 'posonlyargs'\n",
      "To silence this warning, decorate the function with @tf.autograph.experimental.do_not_convert\n",
      "WARNING:tensorflow:5 out of the last 13 calls to <function Model.make_train_function.<locals>.train_function at 0x7f78182064d0> triggered tf.function retracing. Tracing is expensive and the excessive number of tracings could be due to (1) creating @tf.function repeatedly in a loop, (2) passing tensors with different shapes, (3) passing Python objects instead of tensors. For (1), please define your @tf.function outside of the loop. For (2), @tf.function has reduce_retracing=True option that can avoid unnecessary retracing. For (3), please refer to https://www.tensorflow.org/guide/function#controlling_retracing and https://www.tensorflow.org/api_docs/python/tf/function for  more details.\n"
     ]
    },
    {
     "name": "stderr",
     "output_type": "stream",
     "text": [
      "WARNING:tensorflow:5 out of the last 13 calls to <function Model.make_train_function.<locals>.train_function at 0x7f78182064d0> triggered tf.function retracing. Tracing is expensive and the excessive number of tracings could be due to (1) creating @tf.function repeatedly in a loop, (2) passing tensors with different shapes, (3) passing Python objects instead of tensors. For (1), please define your @tf.function outside of the loop. For (2), @tf.function has reduce_retracing=True option that can avoid unnecessary retracing. For (3), please refer to https://www.tensorflow.org/guide/function#controlling_retracing and https://www.tensorflow.org/api_docs/python/tf/function for  more details.\n"
     ]
    },
    {
     "name": "stdout",
     "output_type": "stream",
     "text": [
      "1/1 [==============================] - ETA: 0s - loss: 0.0643 - payload_loss: 0.9997 - statistics_loss: 0.7506 - sequences_loss: 0.8980 - ipaddress_loss: 1.0004WARNING:tensorflow:AutoGraph could not transform <function Model.make_test_function.<locals>.test_function at 0x7f785b797d40> and will run it as-is.\n",
      "Please report this to the TensorFlow team. When filing the bug, set the verbosity to 10 (on Linux, `export AUTOGRAPH_VERBOSITY=10`) and attach the full output.\n",
      "Cause: 'arguments' object has no attribute 'posonlyargs'\n",
      "To silence this warning, decorate the function with @tf.autograph.experimental.do_not_convert\n"
     ]
    },
    {
     "name": "stderr",
     "output_type": "stream",
     "text": [
      "WARNING:tensorflow:AutoGraph could not transform <function Model.make_test_function.<locals>.test_function at 0x7f785b797d40> and will run it as-is.\n",
      "Please report this to the TensorFlow team. When filing the bug, set the verbosity to 10 (on Linux, `export AUTOGRAPH_VERBOSITY=10`) and attach the full output.\n",
      "Cause: 'arguments' object has no attribute 'posonlyargs'\n",
      "To silence this warning, decorate the function with @tf.autograph.experimental.do_not_convert\n"
     ]
    },
    {
     "name": "stdout",
     "output_type": "stream",
     "text": [
      "WARNING: AutoGraph could not transform <function Model.make_test_function.<locals>.test_function at 0x7f785b797d40> and will run it as-is.\n",
      "Please report this to the TensorFlow team. When filing the bug, set the verbosity to 10 (on Linux, `export AUTOGRAPH_VERBOSITY=10`) and attach the full output.\n",
      "Cause: 'arguments' object has no attribute 'posonlyargs'\n",
      "To silence this warning, decorate the function with @tf.autograph.experimental.do_not_convert\n",
      "WARNING:tensorflow:5 out of the last 13 calls to <function Model.make_test_function.<locals>.test_function at 0x7f785b797d40> triggered tf.function retracing. Tracing is expensive and the excessive number of tracings could be due to (1) creating @tf.function repeatedly in a loop, (2) passing tensors with different shapes, (3) passing Python objects instead of tensors. For (1), please define your @tf.function outside of the loop. For (2), @tf.function has reduce_retracing=True option that can avoid unnecessary retracing. For (3), please refer to https://www.tensorflow.org/guide/function#controlling_retracing and https://www.tensorflow.org/api_docs/python/tf/function for  more details.\n"
     ]
    },
    {
     "name": "stderr",
     "output_type": "stream",
     "text": [
      "WARNING:tensorflow:5 out of the last 13 calls to <function Model.make_test_function.<locals>.test_function at 0x7f785b797d40> triggered tf.function retracing. Tracing is expensive and the excessive number of tracings could be due to (1) creating @tf.function repeatedly in a loop, (2) passing tensors with different shapes, (3) passing Python objects instead of tensors. For (1), please define your @tf.function outside of the loop. For (2), @tf.function has reduce_retracing=True option that can avoid unnecessary retracing. For (3), please refer to https://www.tensorflow.org/guide/function#controlling_retracing and https://www.tensorflow.org/api_docs/python/tf/function for  more details.\n"
     ]
    },
    {
     "name": "stdout",
     "output_type": "stream",
     "text": [
      "1/1 [==============================] - 4s 4s/step - loss: 0.0643 - payload_loss: 0.9997 - statistics_loss: 0.7506 - sequences_loss: 0.8980 - ipaddress_loss: 1.0004 - val_loss: 0.0871 - val_payload_loss: 0.9915 - val_statistics_loss: 1.6688 - val_sequences_loss: 2.6623 - val_ipaddress_loss: 0.7783\n",
      "Epoch 2/3\n",
      "1/1 [==============================] - 0s 68ms/step - loss: 0.0641 - payload_loss: 0.9991 - statistics_loss: 0.7457 - sequences_loss: 0.8979 - ipaddress_loss: 0.9926 - val_loss: 0.0868 - val_payload_loss: 0.9906 - val_statistics_loss: 1.6563 - val_sequences_loss: 2.6617 - val_ipaddress_loss: 0.7688\n",
      "Epoch 3/3\n",
      "1/1 [==============================] - 0s 68ms/step - loss: 0.0638 - payload_loss: 0.9982 - statistics_loss: 0.7412 - sequences_loss: 0.8975 - ipaddress_loss: 0.9806 - val_loss: 0.0862 - val_payload_loss: 0.9885 - val_statistics_loss: 1.6375 - val_sequences_loss: 2.6608 - val_ipaddress_loss: 0.7531\n",
      "Epoch 1/3\n",
      "WARNING:tensorflow:AutoGraph could not transform <function Model.make_train_function.<locals>.train_function at 0x7f786017df80> and will run it as-is.\n",
      "Please report this to the TensorFlow team. When filing the bug, set the verbosity to 10 (on Linux, `export AUTOGRAPH_VERBOSITY=10`) and attach the full output.\n",
      "Cause: 'arguments' object has no attribute 'posonlyargs'\n",
      "To silence this warning, decorate the function with @tf.autograph.experimental.do_not_convert\n"
     ]
    },
    {
     "name": "stderr",
     "output_type": "stream",
     "text": [
      "WARNING:tensorflow:AutoGraph could not transform <function Model.make_train_function.<locals>.train_function at 0x7f786017df80> and will run it as-is.\n",
      "Please report this to the TensorFlow team. When filing the bug, set the verbosity to 10 (on Linux, `export AUTOGRAPH_VERBOSITY=10`) and attach the full output.\n",
      "Cause: 'arguments' object has no attribute 'posonlyargs'\n",
      "To silence this warning, decorate the function with @tf.autograph.experimental.do_not_convert\n"
     ]
    },
    {
     "name": "stdout",
     "output_type": "stream",
     "text": [
      "WARNING: AutoGraph could not transform <function Model.make_train_function.<locals>.train_function at 0x7f786017df80> and will run it as-is.\n",
      "Please report this to the TensorFlow team. When filing the bug, set the verbosity to 10 (on Linux, `export AUTOGRAPH_VERBOSITY=10`) and attach the full output.\n",
      "Cause: 'arguments' object has no attribute 'posonlyargs'\n",
      "To silence this warning, decorate the function with @tf.autograph.experimental.do_not_convert\n",
      "1/1 [==============================] - ETA: 0s - loss: 0.0644 - payload_loss: 0.9999 - statistics_loss: 0.7530 - sequences_loss: 0.8986 - ipaddress_loss: 1.0024WARNING:tensorflow:AutoGraph could not transform <function Model.make_test_function.<locals>.test_function at 0x7f786a4c0830> and will run it as-is.\n",
      "Please report this to the TensorFlow team. When filing the bug, set the verbosity to 10 (on Linux, `export AUTOGRAPH_VERBOSITY=10`) and attach the full output.\n",
      "Cause: 'arguments' object has no attribute 'posonlyargs'\n",
      "To silence this warning, decorate the function with @tf.autograph.experimental.do_not_convert\n"
     ]
    },
    {
     "name": "stderr",
     "output_type": "stream",
     "text": [
      "WARNING:tensorflow:AutoGraph could not transform <function Model.make_test_function.<locals>.test_function at 0x7f786a4c0830> and will run it as-is.\n",
      "Please report this to the TensorFlow team. When filing the bug, set the verbosity to 10 (on Linux, `export AUTOGRAPH_VERBOSITY=10`) and attach the full output.\n",
      "Cause: 'arguments' object has no attribute 'posonlyargs'\n",
      "To silence this warning, decorate the function with @tf.autograph.experimental.do_not_convert\n"
     ]
    },
    {
     "name": "stdout",
     "output_type": "stream",
     "text": [
      "WARNING: AutoGraph could not transform <function Model.make_test_function.<locals>.test_function at 0x7f786a4c0830> and will run it as-is.\n",
      "Please report this to the TensorFlow team. When filing the bug, set the verbosity to 10 (on Linux, `export AUTOGRAPH_VERBOSITY=10`) and attach the full output.\n",
      "Cause: 'arguments' object has no attribute 'posonlyargs'\n",
      "To silence this warning, decorate the function with @tf.autograph.experimental.do_not_convert\n",
      "1/1 [==============================] - 4s 4s/step - loss: 0.0644 - payload_loss: 0.9999 - statistics_loss: 0.7530 - sequences_loss: 0.8986 - ipaddress_loss: 1.0024 - val_loss: 0.0874 - val_payload_loss: 0.9929 - val_statistics_loss: 1.6898 - val_sequences_loss: 2.6632 - val_ipaddress_loss: 0.7734\n",
      "Epoch 2/3\n",
      "1/1 [==============================] - 0s 73ms/step - loss: 0.0641 - payload_loss: 0.9995 - statistics_loss: 0.7495 - sequences_loss: 0.8985 - ipaddress_loss: 0.9887 - val_loss: 0.0871 - val_payload_loss: 0.9924 - val_statistics_loss: 1.6850 - val_sequences_loss: 2.6632 - val_ipaddress_loss: 0.7600\n",
      "Epoch 3/3\n",
      "1/1 [==============================] - 0s 71ms/step - loss: 0.0638 - payload_loss: 0.9986 - statistics_loss: 0.7478 - sequences_loss: 0.8985 - ipaddress_loss: 0.9742 - val_loss: 0.0866 - val_payload_loss: 0.9908 - val_statistics_loss: 1.6801 - val_sequences_loss: 2.6633 - val_ipaddress_loss: 0.7385\n",
      "Epoch 1/3\n",
      "WARNING:tensorflow:AutoGraph could not transform <function Model.make_train_function.<locals>.train_function at 0x7f77d87c1d40> and will run it as-is.\n",
      "Please report this to the TensorFlow team. When filing the bug, set the verbosity to 10 (on Linux, `export AUTOGRAPH_VERBOSITY=10`) and attach the full output.\n",
      "Cause: 'arguments' object has no attribute 'posonlyargs'\n",
      "To silence this warning, decorate the function with @tf.autograph.experimental.do_not_convert\n"
     ]
    },
    {
     "name": "stderr",
     "output_type": "stream",
     "text": [
      "WARNING:tensorflow:AutoGraph could not transform <function Model.make_train_function.<locals>.train_function at 0x7f77d87c1d40> and will run it as-is.\n",
      "Please report this to the TensorFlow team. When filing the bug, set the verbosity to 10 (on Linux, `export AUTOGRAPH_VERBOSITY=10`) and attach the full output.\n",
      "Cause: 'arguments' object has no attribute 'posonlyargs'\n",
      "To silence this warning, decorate the function with @tf.autograph.experimental.do_not_convert\n"
     ]
    },
    {
     "name": "stdout",
     "output_type": "stream",
     "text": [
      "WARNING: AutoGraph could not transform <function Model.make_train_function.<locals>.train_function at 0x7f77d87c1d40> and will run it as-is.\n",
      "Please report this to the TensorFlow team. When filing the bug, set the verbosity to 10 (on Linux, `export AUTOGRAPH_VERBOSITY=10`) and attach the full output.\n",
      "Cause: 'arguments' object has no attribute 'posonlyargs'\n",
      "To silence this warning, decorate the function with @tf.autograph.experimental.do_not_convert\n",
      "1/1 [==============================] - ETA: 0s - loss: 0.0644 - payload_loss: 1.0011 - statistics_loss: 0.7482 - sequences_loss: 0.8990 - ipaddress_loss: 1.0034WARNING:tensorflow:AutoGraph could not transform <function Model.make_test_function.<locals>.test_function at 0x7f786014be60> and will run it as-is.\n",
      "Please report this to the TensorFlow team. When filing the bug, set the verbosity to 10 (on Linux, `export AUTOGRAPH_VERBOSITY=10`) and attach the full output.\n",
      "Cause: 'arguments' object has no attribute 'posonlyargs'\n",
      "To silence this warning, decorate the function with @tf.autograph.experimental.do_not_convert\n"
     ]
    },
    {
     "name": "stderr",
     "output_type": "stream",
     "text": [
      "WARNING:tensorflow:AutoGraph could not transform <function Model.make_test_function.<locals>.test_function at 0x7f786014be60> and will run it as-is.\n",
      "Please report this to the TensorFlow team. When filing the bug, set the verbosity to 10 (on Linux, `export AUTOGRAPH_VERBOSITY=10`) and attach the full output.\n",
      "Cause: 'arguments' object has no attribute 'posonlyargs'\n",
      "To silence this warning, decorate the function with @tf.autograph.experimental.do_not_convert\n"
     ]
    },
    {
     "name": "stdout",
     "output_type": "stream",
     "text": [
      "WARNING: AutoGraph could not transform <function Model.make_test_function.<locals>.test_function at 0x7f786014be60> and will run it as-is.\n",
      "Please report this to the TensorFlow team. When filing the bug, set the verbosity to 10 (on Linux, `export AUTOGRAPH_VERBOSITY=10`) and attach the full output.\n",
      "Cause: 'arguments' object has no attribute 'posonlyargs'\n",
      "To silence this warning, decorate the function with @tf.autograph.experimental.do_not_convert\n",
      "1/1 [==============================] - 4s 4s/step - loss: 0.0644 - payload_loss: 1.0011 - statistics_loss: 0.7482 - sequences_loss: 0.8990 - ipaddress_loss: 1.0034 - val_loss: 0.0873 - val_payload_loss: 0.9939 - val_statistics_loss: 1.6728 - val_sequences_loss: 2.6636 - val_ipaddress_loss: 0.7781\n",
      "Epoch 2/3\n",
      "1/1 [==============================] - 0s 70ms/step - loss: 0.0642 - payload_loss: 1.0007 - statistics_loss: 0.7456 - sequences_loss: 0.8986 - ipaddress_loss: 0.9925 - val_loss: 0.0870 - val_payload_loss: 0.9930 - val_statistics_loss: 1.6649 - val_sequences_loss: 2.6630 - val_ipaddress_loss: 0.7712\n",
      "Epoch 3/3\n",
      "1/1 [==============================] - 0s 68ms/step - loss: 0.0639 - payload_loss: 1.0003 - statistics_loss: 0.7426 - sequences_loss: 0.8982 - ipaddress_loss: 0.9798 - val_loss: 0.0865 - val_payload_loss: 0.9918 - val_statistics_loss: 1.6425 - val_sequences_loss: 2.6622 - val_ipaddress_loss: 0.7643\n",
      "Epoch 1/3\n",
      "WARNING:tensorflow:AutoGraph could not transform <function Model.make_train_function.<locals>.train_function at 0x7f78185b2290> and will run it as-is.\n",
      "Please report this to the TensorFlow team. When filing the bug, set the verbosity to 10 (on Linux, `export AUTOGRAPH_VERBOSITY=10`) and attach the full output.\n",
      "Cause: 'arguments' object has no attribute 'posonlyargs'\n",
      "To silence this warning, decorate the function with @tf.autograph.experimental.do_not_convert\n"
     ]
    },
    {
     "name": "stderr",
     "output_type": "stream",
     "text": [
      "WARNING:tensorflow:AutoGraph could not transform <function Model.make_train_function.<locals>.train_function at 0x7f78185b2290> and will run it as-is.\n",
      "Please report this to the TensorFlow team. When filing the bug, set the verbosity to 10 (on Linux, `export AUTOGRAPH_VERBOSITY=10`) and attach the full output.\n",
      "Cause: 'arguments' object has no attribute 'posonlyargs'\n",
      "To silence this warning, decorate the function with @tf.autograph.experimental.do_not_convert\n"
     ]
    },
    {
     "name": "stdout",
     "output_type": "stream",
     "text": [
      "WARNING: AutoGraph could not transform <function Model.make_train_function.<locals>.train_function at 0x7f78185b2290> and will run it as-is.\n",
      "Please report this to the TensorFlow team. When filing the bug, set the verbosity to 10 (on Linux, `export AUTOGRAPH_VERBOSITY=10`) and attach the full output.\n",
      "Cause: 'arguments' object has no attribute 'posonlyargs'\n",
      "To silence this warning, decorate the function with @tf.autograph.experimental.do_not_convert\n",
      "1/1 [==============================] - ETA: 0s - loss: 0.0643 - payload_loss: 0.9991 - statistics_loss: 0.7517 - sequences_loss: 0.8993 - ipaddress_loss: 0.9970WARNING:tensorflow:AutoGraph could not transform <function Model.make_test_function.<locals>.test_function at 0x7f7874516e60> and will run it as-is.\n",
      "Please report this to the TensorFlow team. When filing the bug, set the verbosity to 10 (on Linux, `export AUTOGRAPH_VERBOSITY=10`) and attach the full output.\n",
      "Cause: 'arguments' object has no attribute 'posonlyargs'\n",
      "To silence this warning, decorate the function with @tf.autograph.experimental.do_not_convert\n"
     ]
    },
    {
     "name": "stderr",
     "output_type": "stream",
     "text": [
      "WARNING:tensorflow:AutoGraph could not transform <function Model.make_test_function.<locals>.test_function at 0x7f7874516e60> and will run it as-is.\n",
      "Please report this to the TensorFlow team. When filing the bug, set the verbosity to 10 (on Linux, `export AUTOGRAPH_VERBOSITY=10`) and attach the full output.\n",
      "Cause: 'arguments' object has no attribute 'posonlyargs'\n",
      "To silence this warning, decorate the function with @tf.autograph.experimental.do_not_convert\n"
     ]
    },
    {
     "name": "stdout",
     "output_type": "stream",
     "text": [
      "WARNING: AutoGraph could not transform <function Model.make_test_function.<locals>.test_function at 0x7f7874516e60> and will run it as-is.\n",
      "Please report this to the TensorFlow team. When filing the bug, set the verbosity to 10 (on Linux, `export AUTOGRAPH_VERBOSITY=10`) and attach the full output.\n",
      "Cause: 'arguments' object has no attribute 'posonlyargs'\n",
      "To silence this warning, decorate the function with @tf.autograph.experimental.do_not_convert\n",
      "1/1 [==============================] - 4s 4s/step - loss: 0.0643 - payload_loss: 0.9991 - statistics_loss: 0.7517 - sequences_loss: 0.8993 - ipaddress_loss: 0.9970 - val_loss: 0.0873 - val_payload_loss: 0.9905 - val_statistics_loss: 1.6890 - val_sequences_loss: 2.6649 - val_ipaddress_loss: 0.7701\n",
      "Epoch 2/3\n",
      "1/1 [==============================] - 0s 70ms/step - loss: 0.0638 - payload_loss: 0.9968 - statistics_loss: 0.7470 - sequences_loss: 0.8999 - ipaddress_loss: 0.9769 - val_loss: 0.0868 - val_payload_loss: 0.9864 - val_statistics_loss: 1.6887 - val_sequences_loss: 2.6661 - val_ipaddress_loss: 0.7470\n",
      "Epoch 3/3\n",
      "1/1 [==============================] - 0s 70ms/step - loss: 0.0631 - payload_loss: 0.9922 - statistics_loss: 0.7405 - sequences_loss: 0.9012 - ipaddress_loss: 0.9447 - val_loss: 0.0863 - val_payload_loss: 0.9786 - val_statistics_loss: 1.6938 - val_sequences_loss: 2.6669 - val_ipaddress_loss: 0.7254\n",
      "Epoch 1/3\n",
      "WARNING:tensorflow:AutoGraph could not transform <function Model.make_train_function.<locals>.train_function at 0x7f786049c4d0> and will run it as-is.\n",
      "Please report this to the TensorFlow team. When filing the bug, set the verbosity to 10 (on Linux, `export AUTOGRAPH_VERBOSITY=10`) and attach the full output.\n",
      "Cause: 'arguments' object has no attribute 'posonlyargs'\n",
      "To silence this warning, decorate the function with @tf.autograph.experimental.do_not_convert\n"
     ]
    },
    {
     "name": "stderr",
     "output_type": "stream",
     "text": [
      "WARNING:tensorflow:AutoGraph could not transform <function Model.make_train_function.<locals>.train_function at 0x7f786049c4d0> and will run it as-is.\n",
      "Please report this to the TensorFlow team. When filing the bug, set the verbosity to 10 (on Linux, `export AUTOGRAPH_VERBOSITY=10`) and attach the full output.\n",
      "Cause: 'arguments' object has no attribute 'posonlyargs'\n",
      "To silence this warning, decorate the function with @tf.autograph.experimental.do_not_convert\n"
     ]
    },
    {
     "name": "stdout",
     "output_type": "stream",
     "text": [
      "WARNING: AutoGraph could not transform <function Model.make_train_function.<locals>.train_function at 0x7f786049c4d0> and will run it as-is.\n",
      "Please report this to the TensorFlow team. When filing the bug, set the verbosity to 10 (on Linux, `export AUTOGRAPH_VERBOSITY=10`) and attach the full output.\n",
      "Cause: 'arguments' object has no attribute 'posonlyargs'\n",
      "To silence this warning, decorate the function with @tf.autograph.experimental.do_not_convert\n",
      "1/1 [==============================] - ETA: 0s - loss: 0.0643 - payload_loss: 1.0003 - statistics_loss: 0.7510 - sequences_loss: 0.8984 - ipaddress_loss: 0.9982WARNING:tensorflow:AutoGraph could not transform <function Model.make_test_function.<locals>.test_function at 0x7f786049c320> and will run it as-is.\n",
      "Please report this to the TensorFlow team. When filing the bug, set the verbosity to 10 (on Linux, `export AUTOGRAPH_VERBOSITY=10`) and attach the full output.\n",
      "Cause: 'arguments' object has no attribute 'posonlyargs'\n",
      "To silence this warning, decorate the function with @tf.autograph.experimental.do_not_convert\n"
     ]
    },
    {
     "name": "stderr",
     "output_type": "stream",
     "text": [
      "WARNING:tensorflow:AutoGraph could not transform <function Model.make_test_function.<locals>.test_function at 0x7f786049c320> and will run it as-is.\n",
      "Please report this to the TensorFlow team. When filing the bug, set the verbosity to 10 (on Linux, `export AUTOGRAPH_VERBOSITY=10`) and attach the full output.\n",
      "Cause: 'arguments' object has no attribute 'posonlyargs'\n",
      "To silence this warning, decorate the function with @tf.autograph.experimental.do_not_convert\n"
     ]
    },
    {
     "name": "stdout",
     "output_type": "stream",
     "text": [
      "WARNING: AutoGraph could not transform <function Model.make_test_function.<locals>.test_function at 0x7f786049c320> and will run it as-is.\n",
      "Please report this to the TensorFlow team. When filing the bug, set the verbosity to 10 (on Linux, `export AUTOGRAPH_VERBOSITY=10`) and attach the full output.\n",
      "Cause: 'arguments' object has no attribute 'posonlyargs'\n",
      "To silence this warning, decorate the function with @tf.autograph.experimental.do_not_convert\n",
      "1/1 [==============================] - 4s 4s/step - loss: 0.0643 - payload_loss: 1.0003 - statistics_loss: 0.7510 - sequences_loss: 0.8984 - ipaddress_loss: 0.9982 - val_loss: 0.0873 - val_payload_loss: 0.9927 - val_statistics_loss: 1.6786 - val_sequences_loss: 2.6629 - val_ipaddress_loss: 0.7772\n",
      "Epoch 2/3\n",
      "1/1 [==============================] - 0s 73ms/step - loss: 0.0641 - payload_loss: 0.9996 - statistics_loss: 0.7477 - sequences_loss: 0.8983 - ipaddress_loss: 0.9879 - val_loss: 0.0868 - val_payload_loss: 0.9919 - val_statistics_loss: 1.6654 - val_sequences_loss: 2.6630 - val_ipaddress_loss: 0.7610\n",
      "Epoch 3/3\n",
      "1/1 [==============================] - 0s 71ms/step - loss: 0.0636 - payload_loss: 0.9987 - statistics_loss: 0.7409 - sequences_loss: 0.8984 - ipaddress_loss: 0.9672 - val_loss: 0.0859 - val_payload_loss: 0.9898 - val_statistics_loss: 1.6384 - val_sequences_loss: 2.6629 - val_ipaddress_loss: 0.7326\n",
      "Epoch 1/3\n",
      "WARNING:tensorflow:AutoGraph could not transform <function Model.make_train_function.<locals>.train_function at 0x7f77d87a0680> and will run it as-is.\n",
      "Please report this to the TensorFlow team. When filing the bug, set the verbosity to 10 (on Linux, `export AUTOGRAPH_VERBOSITY=10`) and attach the full output.\n",
      "Cause: 'arguments' object has no attribute 'posonlyargs'\n",
      "To silence this warning, decorate the function with @tf.autograph.experimental.do_not_convert\n"
     ]
    },
    {
     "name": "stderr",
     "output_type": "stream",
     "text": [
      "WARNING:tensorflow:AutoGraph could not transform <function Model.make_train_function.<locals>.train_function at 0x7f77d87a0680> and will run it as-is.\n",
      "Please report this to the TensorFlow team. When filing the bug, set the verbosity to 10 (on Linux, `export AUTOGRAPH_VERBOSITY=10`) and attach the full output.\n",
      "Cause: 'arguments' object has no attribute 'posonlyargs'\n",
      "To silence this warning, decorate the function with @tf.autograph.experimental.do_not_convert\n"
     ]
    },
    {
     "name": "stdout",
     "output_type": "stream",
     "text": [
      "WARNING: AutoGraph could not transform <function Model.make_train_function.<locals>.train_function at 0x7f77d87a0680> and will run it as-is.\n",
      "Please report this to the TensorFlow team. When filing the bug, set the verbosity to 10 (on Linux, `export AUTOGRAPH_VERBOSITY=10`) and attach the full output.\n",
      "Cause: 'arguments' object has no attribute 'posonlyargs'\n",
      "To silence this warning, decorate the function with @tf.autograph.experimental.do_not_convert\n",
      "1/1 [==============================] - ETA: 0s - loss: 0.0644 - payload_loss: 0.9996 - statistics_loss: 0.7536 - sequences_loss: 0.8985 - ipaddress_loss: 1.0012WARNING:tensorflow:AutoGraph could not transform <function Model.make_test_function.<locals>.test_function at 0x7f786a4c0b00> and will run it as-is.\n",
      "Please report this to the TensorFlow team. When filing the bug, set the verbosity to 10 (on Linux, `export AUTOGRAPH_VERBOSITY=10`) and attach the full output.\n",
      "Cause: 'arguments' object has no attribute 'posonlyargs'\n",
      "To silence this warning, decorate the function with @tf.autograph.experimental.do_not_convert\n"
     ]
    },
    {
     "name": "stderr",
     "output_type": "stream",
     "text": [
      "WARNING:tensorflow:AutoGraph could not transform <function Model.make_test_function.<locals>.test_function at 0x7f786a4c0b00> and will run it as-is.\n",
      "Please report this to the TensorFlow team. When filing the bug, set the verbosity to 10 (on Linux, `export AUTOGRAPH_VERBOSITY=10`) and attach the full output.\n",
      "Cause: 'arguments' object has no attribute 'posonlyargs'\n",
      "To silence this warning, decorate the function with @tf.autograph.experimental.do_not_convert\n"
     ]
    },
    {
     "name": "stdout",
     "output_type": "stream",
     "text": [
      "WARNING: AutoGraph could not transform <function Model.make_test_function.<locals>.test_function at 0x7f786a4c0b00> and will run it as-is.\n",
      "Please report this to the TensorFlow team. When filing the bug, set the verbosity to 10 (on Linux, `export AUTOGRAPH_VERBOSITY=10`) and attach the full output.\n",
      "Cause: 'arguments' object has no attribute 'posonlyargs'\n",
      "To silence this warning, decorate the function with @tf.autograph.experimental.do_not_convert\n",
      "1/1 [==============================] - 4s 4s/step - loss: 0.0644 - payload_loss: 0.9996 - statistics_loss: 0.7536 - sequences_loss: 0.8985 - ipaddress_loss: 1.0012 - val_loss: 0.0871 - val_payload_loss: 0.9922 - val_statistics_loss: 1.6757 - val_sequences_loss: 2.6643 - val_ipaddress_loss: 0.7681\n",
      "Epoch 2/3\n",
      "1/1 [==============================] - 0s 74ms/step - loss: 0.0638 - payload_loss: 0.9979 - statistics_loss: 0.7443 - sequences_loss: 0.8984 - ipaddress_loss: 0.9761 - val_loss: 0.0864 - val_payload_loss: 0.9898 - val_statistics_loss: 1.6613 - val_sequences_loss: 2.6640 - val_ipaddress_loss: 0.7416\n",
      "Epoch 3/3\n",
      "1/1 [==============================] - 0s 73ms/step - loss: 0.0630 - payload_loss: 0.9949 - statistics_loss: 0.7334 - sequences_loss: 0.8981 - ipaddress_loss: 0.9434 - val_loss: 0.0853 - val_payload_loss: 0.9844 - val_statistics_loss: 1.6383 - val_sequences_loss: 2.6635 - val_ipaddress_loss: 0.7038\n",
      "Epoch 1/3\n",
      "WARNING:tensorflow:AutoGraph could not transform <function Model.make_train_function.<locals>.train_function at 0x7f78606ae560> and will run it as-is.\n",
      "Please report this to the TensorFlow team. When filing the bug, set the verbosity to 10 (on Linux, `export AUTOGRAPH_VERBOSITY=10`) and attach the full output.\n",
      "Cause: 'arguments' object has no attribute 'posonlyargs'\n",
      "To silence this warning, decorate the function with @tf.autograph.experimental.do_not_convert\n"
     ]
    },
    {
     "name": "stderr",
     "output_type": "stream",
     "text": [
      "WARNING:tensorflow:AutoGraph could not transform <function Model.make_train_function.<locals>.train_function at 0x7f78606ae560> and will run it as-is.\n",
      "Please report this to the TensorFlow team. When filing the bug, set the verbosity to 10 (on Linux, `export AUTOGRAPH_VERBOSITY=10`) and attach the full output.\n",
      "Cause: 'arguments' object has no attribute 'posonlyargs'\n",
      "To silence this warning, decorate the function with @tf.autograph.experimental.do_not_convert\n"
     ]
    },
    {
     "name": "stdout",
     "output_type": "stream",
     "text": [
      "WARNING: AutoGraph could not transform <function Model.make_train_function.<locals>.train_function at 0x7f78606ae560> and will run it as-is.\n",
      "Please report this to the TensorFlow team. When filing the bug, set the verbosity to 10 (on Linux, `export AUTOGRAPH_VERBOSITY=10`) and attach the full output.\n",
      "Cause: 'arguments' object has no attribute 'posonlyargs'\n",
      "To silence this warning, decorate the function with @tf.autograph.experimental.do_not_convert\n",
      "1/1 [==============================] - ETA: 0s - loss: 0.0643 - payload_loss: 1.0000 - statistics_loss: 0.7552 - sequences_loss: 0.8982 - ipaddress_loss: 0.9973WARNING:tensorflow:AutoGraph could not transform <function Model.make_test_function.<locals>.test_function at 0x7f786026c0e0> and will run it as-is.\n",
      "Please report this to the TensorFlow team. When filing the bug, set the verbosity to 10 (on Linux, `export AUTOGRAPH_VERBOSITY=10`) and attach the full output.\n",
      "Cause: 'arguments' object has no attribute 'posonlyargs'\n",
      "To silence this warning, decorate the function with @tf.autograph.experimental.do_not_convert\n"
     ]
    },
    {
     "name": "stderr",
     "output_type": "stream",
     "text": [
      "WARNING:tensorflow:AutoGraph could not transform <function Model.make_test_function.<locals>.test_function at 0x7f786026c0e0> and will run it as-is.\n",
      "Please report this to the TensorFlow team. When filing the bug, set the verbosity to 10 (on Linux, `export AUTOGRAPH_VERBOSITY=10`) and attach the full output.\n",
      "Cause: 'arguments' object has no attribute 'posonlyargs'\n",
      "To silence this warning, decorate the function with @tf.autograph.experimental.do_not_convert\n"
     ]
    },
    {
     "name": "stdout",
     "output_type": "stream",
     "text": [
      "WARNING: AutoGraph could not transform <function Model.make_test_function.<locals>.test_function at 0x7f786026c0e0> and will run it as-is.\n",
      "Please report this to the TensorFlow team. When filing the bug, set the verbosity to 10 (on Linux, `export AUTOGRAPH_VERBOSITY=10`) and attach the full output.\n",
      "Cause: 'arguments' object has no attribute 'posonlyargs'\n",
      "To silence this warning, decorate the function with @tf.autograph.experimental.do_not_convert\n",
      "1/1 [==============================] - 4s 4s/step - loss: 0.0643 - payload_loss: 1.0000 - statistics_loss: 0.7552 - sequences_loss: 0.8982 - ipaddress_loss: 0.9973 - val_loss: 0.0871 - val_payload_loss: 0.9922 - val_statistics_loss: 1.6750 - val_sequences_loss: 2.6634 - val_ipaddress_loss: 0.7690\n",
      "Epoch 2/3\n",
      "1/1 [==============================] - 0s 78ms/step - loss: 0.0639 - payload_loss: 0.9991 - statistics_loss: 0.7451 - sequences_loss: 0.8981 - ipaddress_loss: 0.9827 - val_loss: 0.0864 - val_payload_loss: 0.9915 - val_statistics_loss: 1.6554 - val_sequences_loss: 2.6636 - val_ipaddress_loss: 0.7449\n",
      "Epoch 3/3\n",
      "1/1 [==============================] - 0s 74ms/step - loss: 0.0633 - payload_loss: 0.9980 - statistics_loss: 0.7313 - sequences_loss: 0.8975 - ipaddress_loss: 0.9559 - val_loss: 0.0854 - val_payload_loss: 0.9894 - val_statistics_loss: 1.6272 - val_sequences_loss: 2.6637 - val_ipaddress_loss: 0.7071\n",
      "Epoch 1/3\n",
      "WARNING:tensorflow:AutoGraph could not transform <function Model.make_train_function.<locals>.train_function at 0x7f78743fe200> and will run it as-is.\n",
      "Please report this to the TensorFlow team. When filing the bug, set the verbosity to 10 (on Linux, `export AUTOGRAPH_VERBOSITY=10`) and attach the full output.\n",
      "Cause: 'arguments' object has no attribute 'posonlyargs'\n",
      "To silence this warning, decorate the function with @tf.autograph.experimental.do_not_convert\n"
     ]
    },
    {
     "name": "stderr",
     "output_type": "stream",
     "text": [
      "WARNING:tensorflow:AutoGraph could not transform <function Model.make_train_function.<locals>.train_function at 0x7f78743fe200> and will run it as-is.\n",
      "Please report this to the TensorFlow team. When filing the bug, set the verbosity to 10 (on Linux, `export AUTOGRAPH_VERBOSITY=10`) and attach the full output.\n",
      "Cause: 'arguments' object has no attribute 'posonlyargs'\n",
      "To silence this warning, decorate the function with @tf.autograph.experimental.do_not_convert\n"
     ]
    },
    {
     "name": "stdout",
     "output_type": "stream",
     "text": [
      "WARNING: AutoGraph could not transform <function Model.make_train_function.<locals>.train_function at 0x7f78743fe200> and will run it as-is.\n",
      "Please report this to the TensorFlow team. When filing the bug, set the verbosity to 10 (on Linux, `export AUTOGRAPH_VERBOSITY=10`) and attach the full output.\n",
      "Cause: 'arguments' object has no attribute 'posonlyargs'\n",
      "To silence this warning, decorate the function with @tf.autograph.experimental.do_not_convert\n",
      "1/1 [==============================] - ETA: 0s - loss: 0.0643 - payload_loss: 0.9987 - statistics_loss: 0.7434 - sequences_loss: 0.8985 - ipaddress_loss: 1.0085WARNING:tensorflow:AutoGraph could not transform <function Model.make_test_function.<locals>.test_function at 0x7f781865b7a0> and will run it as-is.\n",
      "Please report this to the TensorFlow team. When filing the bug, set the verbosity to 10 (on Linux, `export AUTOGRAPH_VERBOSITY=10`) and attach the full output.\n",
      "Cause: 'arguments' object has no attribute 'posonlyargs'\n",
      "To silence this warning, decorate the function with @tf.autograph.experimental.do_not_convert\n"
     ]
    },
    {
     "name": "stderr",
     "output_type": "stream",
     "text": [
      "WARNING:tensorflow:AutoGraph could not transform <function Model.make_test_function.<locals>.test_function at 0x7f781865b7a0> and will run it as-is.\n",
      "Please report this to the TensorFlow team. When filing the bug, set the verbosity to 10 (on Linux, `export AUTOGRAPH_VERBOSITY=10`) and attach the full output.\n",
      "Cause: 'arguments' object has no attribute 'posonlyargs'\n",
      "To silence this warning, decorate the function with @tf.autograph.experimental.do_not_convert\n"
     ]
    },
    {
     "name": "stdout",
     "output_type": "stream",
     "text": [
      "WARNING: AutoGraph could not transform <function Model.make_test_function.<locals>.test_function at 0x7f781865b7a0> and will run it as-is.\n",
      "Please report this to the TensorFlow team. When filing the bug, set the verbosity to 10 (on Linux, `export AUTOGRAPH_VERBOSITY=10`) and attach the full output.\n",
      "Cause: 'arguments' object has no attribute 'posonlyargs'\n",
      "To silence this warning, decorate the function with @tf.autograph.experimental.do_not_convert\n",
      "1/1 [==============================] - 4s 4s/step - loss: 0.0643 - payload_loss: 0.9987 - statistics_loss: 0.7434 - sequences_loss: 0.8985 - ipaddress_loss: 1.0085 - val_loss: 0.0868 - val_payload_loss: 0.9904 - val_statistics_loss: 1.6584 - val_sequences_loss: 2.6636 - val_ipaddress_loss: 0.7712\n",
      "Epoch 2/3\n",
      "1/1 [==============================] - 0s 85ms/step - loss: 0.0637 - payload_loss: 0.9962 - statistics_loss: 0.7311 - sequences_loss: 0.8981 - ipaddress_loss: 0.9834 - val_loss: 0.0860 - val_payload_loss: 0.9857 - val_statistics_loss: 1.6352 - val_sequences_loss: 2.6635 - val_ipaddress_loss: 0.7467\n",
      "Epoch 3/3\n",
      "1/1 [==============================] - 0s 84ms/step - loss: 0.0627 - payload_loss: 0.9906 - statistics_loss: 0.7133 - sequences_loss: 0.8974 - ipaddress_loss: 0.9519 - val_loss: 0.0848 - val_payload_loss: 0.9767 - val_statistics_loss: 1.6090 - val_sequences_loss: 2.6628 - val_ipaddress_loss: 0.7116\n",
      "Epoch 1/3\n",
      "WARNING:tensorflow:AutoGraph could not transform <function Model.make_train_function.<locals>.train_function at 0x7f77d86ed8c0> and will run it as-is.\n",
      "Please report this to the TensorFlow team. When filing the bug, set the verbosity to 10 (on Linux, `export AUTOGRAPH_VERBOSITY=10`) and attach the full output.\n",
      "Cause: 'arguments' object has no attribute 'posonlyargs'\n",
      "To silence this warning, decorate the function with @tf.autograph.experimental.do_not_convert\n"
     ]
    },
    {
     "name": "stderr",
     "output_type": "stream",
     "text": [
      "WARNING:tensorflow:AutoGraph could not transform <function Model.make_train_function.<locals>.train_function at 0x7f77d86ed8c0> and will run it as-is.\n",
      "Please report this to the TensorFlow team. When filing the bug, set the verbosity to 10 (on Linux, `export AUTOGRAPH_VERBOSITY=10`) and attach the full output.\n",
      "Cause: 'arguments' object has no attribute 'posonlyargs'\n",
      "To silence this warning, decorate the function with @tf.autograph.experimental.do_not_convert\n"
     ]
    },
    {
     "name": "stdout",
     "output_type": "stream",
     "text": [
      "WARNING: AutoGraph could not transform <function Model.make_train_function.<locals>.train_function at 0x7f77d86ed8c0> and will run it as-is.\n",
      "Please report this to the TensorFlow team. When filing the bug, set the verbosity to 10 (on Linux, `export AUTOGRAPH_VERBOSITY=10`) and attach the full output.\n",
      "Cause: 'arguments' object has no attribute 'posonlyargs'\n",
      "To silence this warning, decorate the function with @tf.autograph.experimental.do_not_convert\n",
      "1/1 [==============================] - ETA: 0s - loss: 0.0642 - payload_loss: 1.0017 - statistics_loss: 0.7498 - sequences_loss: 0.8982 - ipaddress_loss: 0.9925WARNING:tensorflow:AutoGraph could not transform <function Model.make_test_function.<locals>.test_function at 0x7f7858375560> and will run it as-is.\n",
      "Please report this to the TensorFlow team. When filing the bug, set the verbosity to 10 (on Linux, `export AUTOGRAPH_VERBOSITY=10`) and attach the full output.\n",
      "Cause: 'arguments' object has no attribute 'posonlyargs'\n",
      "To silence this warning, decorate the function with @tf.autograph.experimental.do_not_convert\n"
     ]
    },
    {
     "name": "stderr",
     "output_type": "stream",
     "text": [
      "WARNING:tensorflow:AutoGraph could not transform <function Model.make_test_function.<locals>.test_function at 0x7f7858375560> and will run it as-is.\n",
      "Please report this to the TensorFlow team. When filing the bug, set the verbosity to 10 (on Linux, `export AUTOGRAPH_VERBOSITY=10`) and attach the full output.\n",
      "Cause: 'arguments' object has no attribute 'posonlyargs'\n",
      "To silence this warning, decorate the function with @tf.autograph.experimental.do_not_convert\n"
     ]
    },
    {
     "name": "stdout",
     "output_type": "stream",
     "text": [
      "WARNING: AutoGraph could not transform <function Model.make_test_function.<locals>.test_function at 0x7f7858375560> and will run it as-is.\n",
      "Please report this to the TensorFlow team. When filing the bug, set the verbosity to 10 (on Linux, `export AUTOGRAPH_VERBOSITY=10`) and attach the full output.\n",
      "Cause: 'arguments' object has no attribute 'posonlyargs'\n",
      "To silence this warning, decorate the function with @tf.autograph.experimental.do_not_convert\n",
      "1/1 [==============================] - 4s 4s/step - loss: 0.0642 - payload_loss: 1.0017 - statistics_loss: 0.7498 - sequences_loss: 0.8982 - ipaddress_loss: 0.9925 - val_loss: 0.0868 - val_payload_loss: 0.9932 - val_statistics_loss: 1.6831 - val_sequences_loss: 2.6624 - val_ipaddress_loss: 0.7416\n",
      "Epoch 2/3\n",
      "1/1 [==============================] - 0s 75ms/step - loss: 0.0634 - payload_loss: 0.9993 - statistics_loss: 0.7400 - sequences_loss: 0.8973 - ipaddress_loss: 0.9541 - val_loss: 0.0851 - val_payload_loss: 0.9888 - val_statistics_loss: 1.6583 - val_sequences_loss: 2.6603 - val_ipaddress_loss: 0.6661\n",
      "Epoch 3/3\n",
      "1/1 [==============================] - 0s 76ms/step - loss: 0.0617 - payload_loss: 0.9943 - statistics_loss: 0.7162 - sequences_loss: 0.8941 - ipaddress_loss: 0.8744 - val_loss: 0.0827 - val_payload_loss: 0.9797 - val_statistics_loss: 1.6111 - val_sequences_loss: 2.6535 - val_ipaddress_loss: 0.5734\n",
      "Epoch 1/3\n",
      "WARNING:tensorflow:AutoGraph could not transform <function Model.make_train_function.<locals>.train_function at 0x7f781831c0e0> and will run it as-is.\n",
      "Please report this to the TensorFlow team. When filing the bug, set the verbosity to 10 (on Linux, `export AUTOGRAPH_VERBOSITY=10`) and attach the full output.\n",
      "Cause: 'arguments' object has no attribute 'posonlyargs'\n",
      "To silence this warning, decorate the function with @tf.autograph.experimental.do_not_convert\n"
     ]
    },
    {
     "name": "stderr",
     "output_type": "stream",
     "text": [
      "WARNING:tensorflow:AutoGraph could not transform <function Model.make_train_function.<locals>.train_function at 0x7f781831c0e0> and will run it as-is.\n",
      "Please report this to the TensorFlow team. When filing the bug, set the verbosity to 10 (on Linux, `export AUTOGRAPH_VERBOSITY=10`) and attach the full output.\n",
      "Cause: 'arguments' object has no attribute 'posonlyargs'\n",
      "To silence this warning, decorate the function with @tf.autograph.experimental.do_not_convert\n"
     ]
    },
    {
     "name": "stdout",
     "output_type": "stream",
     "text": [
      "WARNING: AutoGraph could not transform <function Model.make_train_function.<locals>.train_function at 0x7f781831c0e0> and will run it as-is.\n",
      "Please report this to the TensorFlow team. When filing the bug, set the verbosity to 10 (on Linux, `export AUTOGRAPH_VERBOSITY=10`) and attach the full output.\n",
      "Cause: 'arguments' object has no attribute 'posonlyargs'\n",
      "To silence this warning, decorate the function with @tf.autograph.experimental.do_not_convert\n",
      "1/1 [==============================] - ETA: 0s - loss: 0.0645 - payload_loss: 1.0021 - statistics_loss: 0.7522 - sequences_loss: 0.8985 - ipaddress_loss: 1.0042WARNING:tensorflow:AutoGraph could not transform <function Model.make_test_function.<locals>.test_function at 0x7f7818354950> and will run it as-is.\n",
      "Please report this to the TensorFlow team. When filing the bug, set the verbosity to 10 (on Linux, `export AUTOGRAPH_VERBOSITY=10`) and attach the full output.\n",
      "Cause: 'arguments' object has no attribute 'posonlyargs'\n",
      "To silence this warning, decorate the function with @tf.autograph.experimental.do_not_convert\n"
     ]
    },
    {
     "name": "stderr",
     "output_type": "stream",
     "text": [
      "WARNING:tensorflow:AutoGraph could not transform <function Model.make_test_function.<locals>.test_function at 0x7f7818354950> and will run it as-is.\n",
      "Please report this to the TensorFlow team. When filing the bug, set the verbosity to 10 (on Linux, `export AUTOGRAPH_VERBOSITY=10`) and attach the full output.\n",
      "Cause: 'arguments' object has no attribute 'posonlyargs'\n",
      "To silence this warning, decorate the function with @tf.autograph.experimental.do_not_convert\n"
     ]
    },
    {
     "name": "stdout",
     "output_type": "stream",
     "text": [
      "WARNING: AutoGraph could not transform <function Model.make_test_function.<locals>.test_function at 0x7f7818354950> and will run it as-is.\n",
      "Please report this to the TensorFlow team. When filing the bug, set the verbosity to 10 (on Linux, `export AUTOGRAPH_VERBOSITY=10`) and attach the full output.\n",
      "Cause: 'arguments' object has no attribute 'posonlyargs'\n",
      "To silence this warning, decorate the function with @tf.autograph.experimental.do_not_convert\n",
      "1/1 [==============================] - 4s 4s/step - loss: 0.0645 - payload_loss: 1.0021 - statistics_loss: 0.7522 - sequences_loss: 0.8985 - ipaddress_loss: 1.0042 - val_loss: 0.0874 - val_payload_loss: 0.9944 - val_statistics_loss: 1.6857 - val_sequences_loss: 2.6635 - val_ipaddress_loss: 0.7769\n",
      "Epoch 2/3\n",
      "1/1 [==============================] - 0s 78ms/step - loss: 0.0641 - payload_loss: 1.0004 - statistics_loss: 0.7497 - sequences_loss: 0.8983 - ipaddress_loss: 0.9880 - val_loss: 0.0869 - val_payload_loss: 0.9933 - val_statistics_loss: 1.6798 - val_sequences_loss: 2.6638 - val_ipaddress_loss: 0.7512\n",
      "Epoch 3/3\n",
      "1/1 [==============================] - 0s 83ms/step - loss: 0.0635 - payload_loss: 0.9991 - statistics_loss: 0.7418 - sequences_loss: 0.8982 - ipaddress_loss: 0.9592 - val_loss: 0.0858 - val_payload_loss: 0.9912 - val_statistics_loss: 1.6624 - val_sequences_loss: 2.6640 - val_ipaddress_loss: 0.6987\n",
      "Epoch 1/3\n",
      "WARNING:tensorflow:AutoGraph could not transform <function Model.make_train_function.<locals>.train_function at 0x7f78180ae320> and will run it as-is.\n",
      "Please report this to the TensorFlow team. When filing the bug, set the verbosity to 10 (on Linux, `export AUTOGRAPH_VERBOSITY=10`) and attach the full output.\n",
      "Cause: 'arguments' object has no attribute 'posonlyargs'\n",
      "To silence this warning, decorate the function with @tf.autograph.experimental.do_not_convert\n"
     ]
    },
    {
     "name": "stderr",
     "output_type": "stream",
     "text": [
      "WARNING:tensorflow:AutoGraph could not transform <function Model.make_train_function.<locals>.train_function at 0x7f78180ae320> and will run it as-is.\n",
      "Please report this to the TensorFlow team. When filing the bug, set the verbosity to 10 (on Linux, `export AUTOGRAPH_VERBOSITY=10`) and attach the full output.\n",
      "Cause: 'arguments' object has no attribute 'posonlyargs'\n",
      "To silence this warning, decorate the function with @tf.autograph.experimental.do_not_convert\n"
     ]
    },
    {
     "name": "stdout",
     "output_type": "stream",
     "text": [
      "WARNING: AutoGraph could not transform <function Model.make_train_function.<locals>.train_function at 0x7f78180ae320> and will run it as-is.\n",
      "Please report this to the TensorFlow team. When filing the bug, set the verbosity to 10 (on Linux, `export AUTOGRAPH_VERBOSITY=10`) and attach the full output.\n",
      "Cause: 'arguments' object has no attribute 'posonlyargs'\n",
      "To silence this warning, decorate the function with @tf.autograph.experimental.do_not_convert\n",
      "1/1 [==============================] - ETA: 0s - loss: 0.0642 - payload_loss: 1.0007 - statistics_loss: 0.7510 - sequences_loss: 0.8989 - ipaddress_loss: 0.9919WARNING:tensorflow:AutoGraph could not transform <function Model.make_test_function.<locals>.test_function at 0x7f785805e170> and will run it as-is.\n",
      "Please report this to the TensorFlow team. When filing the bug, set the verbosity to 10 (on Linux, `export AUTOGRAPH_VERBOSITY=10`) and attach the full output.\n",
      "Cause: 'arguments' object has no attribute 'posonlyargs'\n",
      "To silence this warning, decorate the function with @tf.autograph.experimental.do_not_convert\n"
     ]
    },
    {
     "name": "stderr",
     "output_type": "stream",
     "text": [
      "WARNING:tensorflow:AutoGraph could not transform <function Model.make_test_function.<locals>.test_function at 0x7f785805e170> and will run it as-is.\n",
      "Please report this to the TensorFlow team. When filing the bug, set the verbosity to 10 (on Linux, `export AUTOGRAPH_VERBOSITY=10`) and attach the full output.\n",
      "Cause: 'arguments' object has no attribute 'posonlyargs'\n",
      "To silence this warning, decorate the function with @tf.autograph.experimental.do_not_convert\n"
     ]
    },
    {
     "name": "stdout",
     "output_type": "stream",
     "text": [
      "WARNING: AutoGraph could not transform <function Model.make_test_function.<locals>.test_function at 0x7f785805e170> and will run it as-is.\n",
      "Please report this to the TensorFlow team. When filing the bug, set the verbosity to 10 (on Linux, `export AUTOGRAPH_VERBOSITY=10`) and attach the full output.\n",
      "Cause: 'arguments' object has no attribute 'posonlyargs'\n",
      "To silence this warning, decorate the function with @tf.autograph.experimental.do_not_convert\n",
      "1/1 [==============================] - 4s 4s/step - loss: 0.0642 - payload_loss: 1.0007 - statistics_loss: 0.7510 - sequences_loss: 0.8989 - ipaddress_loss: 0.9919 - val_loss: 0.0868 - val_payload_loss: 0.9919 - val_statistics_loss: 1.6756 - val_sequences_loss: 2.6662 - val_ipaddress_loss: 0.7476\n",
      "Epoch 2/3\n",
      "1/1 [==============================] - 0s 82ms/step - loss: 0.0633 - payload_loss: 0.9984 - statistics_loss: 0.7368 - sequences_loss: 0.8986 - ipaddress_loss: 0.9508 - val_loss: 0.0850 - val_payload_loss: 0.9870 - val_statistics_loss: 1.6463 - val_sequences_loss: 2.6661 - val_ipaddress_loss: 0.6728\n",
      "Epoch 3/3\n",
      "1/1 [==============================] - 0s 84ms/step - loss: 0.0612 - payload_loss: 0.9940 - statistics_loss: 0.7140 - sequences_loss: 0.8977 - ipaddress_loss: 0.8485 - val_loss: 0.0826 - val_payload_loss: 0.9771 - val_statistics_loss: 1.5969 - val_sequences_loss: 2.6641 - val_ipaddress_loss: 0.5834\n",
      "Epoch 1/3\n",
      "WARNING:tensorflow:AutoGraph could not transform <function Model.make_train_function.<locals>.train_function at 0x7f788a117b00> and will run it as-is.\n",
      "Please report this to the TensorFlow team. When filing the bug, set the verbosity to 10 (on Linux, `export AUTOGRAPH_VERBOSITY=10`) and attach the full output.\n",
      "Cause: 'arguments' object has no attribute 'posonlyargs'\n",
      "To silence this warning, decorate the function with @tf.autograph.experimental.do_not_convert\n"
     ]
    },
    {
     "name": "stderr",
     "output_type": "stream",
     "text": [
      "WARNING:tensorflow:AutoGraph could not transform <function Model.make_train_function.<locals>.train_function at 0x7f788a117b00> and will run it as-is.\n",
      "Please report this to the TensorFlow team. When filing the bug, set the verbosity to 10 (on Linux, `export AUTOGRAPH_VERBOSITY=10`) and attach the full output.\n",
      "Cause: 'arguments' object has no attribute 'posonlyargs'\n",
      "To silence this warning, decorate the function with @tf.autograph.experimental.do_not_convert\n"
     ]
    },
    {
     "name": "stdout",
     "output_type": "stream",
     "text": [
      "WARNING: AutoGraph could not transform <function Model.make_train_function.<locals>.train_function at 0x7f788a117b00> and will run it as-is.\n",
      "Please report this to the TensorFlow team. When filing the bug, set the verbosity to 10 (on Linux, `export AUTOGRAPH_VERBOSITY=10`) and attach the full output.\n",
      "Cause: 'arguments' object has no attribute 'posonlyargs'\n",
      "To silence this warning, decorate the function with @tf.autograph.experimental.do_not_convert\n",
      "1/1 [==============================] - ETA: 0s - loss: 0.0647 - payload_loss: 1.0000 - statistics_loss: 0.7555 - sequences_loss: 0.8990 - ipaddress_loss: 1.0191WARNING:tensorflow:AutoGraph could not transform <function Model.make_test_function.<locals>.test_function at 0x7f77d84589e0> and will run it as-is.\n",
      "Please report this to the TensorFlow team. When filing the bug, set the verbosity to 10 (on Linux, `export AUTOGRAPH_VERBOSITY=10`) and attach the full output.\n",
      "Cause: 'arguments' object has no attribute 'posonlyargs'\n",
      "To silence this warning, decorate the function with @tf.autograph.experimental.do_not_convert\n"
     ]
    },
    {
     "name": "stderr",
     "output_type": "stream",
     "text": [
      "WARNING:tensorflow:AutoGraph could not transform <function Model.make_test_function.<locals>.test_function at 0x7f77d84589e0> and will run it as-is.\n",
      "Please report this to the TensorFlow team. When filing the bug, set the verbosity to 10 (on Linux, `export AUTOGRAPH_VERBOSITY=10`) and attach the full output.\n",
      "Cause: 'arguments' object has no attribute 'posonlyargs'\n",
      "To silence this warning, decorate the function with @tf.autograph.experimental.do_not_convert\n"
     ]
    },
    {
     "name": "stdout",
     "output_type": "stream",
     "text": [
      "WARNING: AutoGraph could not transform <function Model.make_test_function.<locals>.test_function at 0x7f77d84589e0> and will run it as-is.\n",
      "Please report this to the TensorFlow team. When filing the bug, set the verbosity to 10 (on Linux, `export AUTOGRAPH_VERBOSITY=10`) and attach the full output.\n",
      "Cause: 'arguments' object has no attribute 'posonlyargs'\n",
      "To silence this warning, decorate the function with @tf.autograph.experimental.do_not_convert\n",
      "1/1 [==============================] - 4s 4s/step - loss: 0.0647 - payload_loss: 1.0000 - statistics_loss: 0.7555 - sequences_loss: 0.8990 - ipaddress_loss: 1.0191 - val_loss: 0.0872 - val_payload_loss: 0.9925 - val_statistics_loss: 1.6794 - val_sequences_loss: 2.6632 - val_ipaddress_loss: 0.7700\n",
      "Epoch 2/3\n",
      "1/1 [==============================] - 0s 83ms/step - loss: 0.0639 - payload_loss: 0.9995 - statistics_loss: 0.7425 - sequences_loss: 0.8989 - ipaddress_loss: 0.9794 - val_loss: 0.0865 - val_payload_loss: 0.9916 - val_statistics_loss: 1.6653 - val_sequences_loss: 2.6636 - val_ipaddress_loss: 0.7400\n",
      "Epoch 3/3\n",
      "1/1 [==============================] - 0s 77ms/step - loss: 0.0630 - payload_loss: 0.9976 - statistics_loss: 0.7291 - sequences_loss: 0.8992 - ipaddress_loss: 0.9420 - val_loss: 0.0850 - val_payload_loss: 0.9883 - val_statistics_loss: 1.6324 - val_sequences_loss: 2.6626 - val_ipaddress_loss: 0.6783\n",
      "Epoch 1/3\n",
      "WARNING:tensorflow:AutoGraph could not transform <function Model.make_train_function.<locals>.train_function at 0x7f7858375b90> and will run it as-is.\n",
      "Please report this to the TensorFlow team. When filing the bug, set the verbosity to 10 (on Linux, `export AUTOGRAPH_VERBOSITY=10`) and attach the full output.\n",
      "Cause: 'arguments' object has no attribute 'posonlyargs'\n",
      "To silence this warning, decorate the function with @tf.autograph.experimental.do_not_convert\n"
     ]
    },
    {
     "name": "stderr",
     "output_type": "stream",
     "text": [
      "WARNING:tensorflow:AutoGraph could not transform <function Model.make_train_function.<locals>.train_function at 0x7f7858375b90> and will run it as-is.\n",
      "Please report this to the TensorFlow team. When filing the bug, set the verbosity to 10 (on Linux, `export AUTOGRAPH_VERBOSITY=10`) and attach the full output.\n",
      "Cause: 'arguments' object has no attribute 'posonlyargs'\n",
      "To silence this warning, decorate the function with @tf.autograph.experimental.do_not_convert\n"
     ]
    },
    {
     "name": "stdout",
     "output_type": "stream",
     "text": [
      "WARNING: AutoGraph could not transform <function Model.make_train_function.<locals>.train_function at 0x7f7858375b90> and will run it as-is.\n",
      "Please report this to the TensorFlow team. When filing the bug, set the verbosity to 10 (on Linux, `export AUTOGRAPH_VERBOSITY=10`) and attach the full output.\n",
      "Cause: 'arguments' object has no attribute 'posonlyargs'\n",
      "To silence this warning, decorate the function with @tf.autograph.experimental.do_not_convert\n",
      "1/1 [==============================] - ETA: 0s - loss: 0.0643 - payload_loss: 1.0023 - statistics_loss: 0.7454 - sequences_loss: 0.8988 - ipaddress_loss: 0.9981WARNING:tensorflow:AutoGraph could not transform <function Model.make_test_function.<locals>.test_function at 0x7f77d86ed4d0> and will run it as-is.\n",
      "Please report this to the TensorFlow team. When filing the bug, set the verbosity to 10 (on Linux, `export AUTOGRAPH_VERBOSITY=10`) and attach the full output.\n",
      "Cause: 'arguments' object has no attribute 'posonlyargs'\n",
      "To silence this warning, decorate the function with @tf.autograph.experimental.do_not_convert\n"
     ]
    },
    {
     "name": "stderr",
     "output_type": "stream",
     "text": [
      "WARNING:tensorflow:AutoGraph could not transform <function Model.make_test_function.<locals>.test_function at 0x7f77d86ed4d0> and will run it as-is.\n",
      "Please report this to the TensorFlow team. When filing the bug, set the verbosity to 10 (on Linux, `export AUTOGRAPH_VERBOSITY=10`) and attach the full output.\n",
      "Cause: 'arguments' object has no attribute 'posonlyargs'\n",
      "To silence this warning, decorate the function with @tf.autograph.experimental.do_not_convert\n"
     ]
    },
    {
     "name": "stdout",
     "output_type": "stream",
     "text": [
      "WARNING: AutoGraph could not transform <function Model.make_test_function.<locals>.test_function at 0x7f77d86ed4d0> and will run it as-is.\n",
      "Please report this to the TensorFlow team. When filing the bug, set the verbosity to 10 (on Linux, `export AUTOGRAPH_VERBOSITY=10`) and attach the full output.\n",
      "Cause: 'arguments' object has no attribute 'posonlyargs'\n",
      "To silence this warning, decorate the function with @tf.autograph.experimental.do_not_convert\n",
      "1/1 [==============================] - 4s 4s/step - loss: 0.0643 - payload_loss: 1.0023 - statistics_loss: 0.7454 - sequences_loss: 0.8988 - ipaddress_loss: 0.9981 - val_loss: 0.0867 - val_payload_loss: 0.9929 - val_statistics_loss: 1.6590 - val_sequences_loss: 2.6628 - val_ipaddress_loss: 0.7546\n",
      "Epoch 2/3\n",
      "1/1 [==============================] - 0s 82ms/step - loss: 0.0634 - payload_loss: 0.9991 - statistics_loss: 0.7317 - sequences_loss: 0.8982 - ipaddress_loss: 0.9618 - val_loss: 0.0840 - val_payload_loss: 0.9882 - val_statistics_loss: 1.5959 - val_sequences_loss: 2.6608 - val_ipaddress_loss: 0.6535\n",
      "Epoch 3/3\n",
      "1/1 [==============================] - 0s 85ms/step - loss: 0.0605 - payload_loss: 0.9935 - statistics_loss: 0.6795 - sequences_loss: 0.8956 - ipaddress_loss: 0.8331 - val_loss: 0.0805 - val_payload_loss: 0.9823 - val_statistics_loss: 1.4907 - val_sequences_loss: 2.6541 - val_ipaddress_loss: 0.5338\n",
      "Epoch 1/3\n",
      "WARNING:tensorflow:AutoGraph could not transform <function Model.make_train_function.<locals>.train_function at 0x7f787468dc20> and will run it as-is.\n",
      "Please report this to the TensorFlow team. When filing the bug, set the verbosity to 10 (on Linux, `export AUTOGRAPH_VERBOSITY=10`) and attach the full output.\n",
      "Cause: 'arguments' object has no attribute 'posonlyargs'\n",
      "To silence this warning, decorate the function with @tf.autograph.experimental.do_not_convert\n"
     ]
    },
    {
     "name": "stderr",
     "output_type": "stream",
     "text": [
      "WARNING:tensorflow:AutoGraph could not transform <function Model.make_train_function.<locals>.train_function at 0x7f787468dc20> and will run it as-is.\n",
      "Please report this to the TensorFlow team. When filing the bug, set the verbosity to 10 (on Linux, `export AUTOGRAPH_VERBOSITY=10`) and attach the full output.\n",
      "Cause: 'arguments' object has no attribute 'posonlyargs'\n",
      "To silence this warning, decorate the function with @tf.autograph.experimental.do_not_convert\n"
     ]
    },
    {
     "name": "stdout",
     "output_type": "stream",
     "text": [
      "WARNING: AutoGraph could not transform <function Model.make_train_function.<locals>.train_function at 0x7f787468dc20> and will run it as-is.\n",
      "Please report this to the TensorFlow team. When filing the bug, set the verbosity to 10 (on Linux, `export AUTOGRAPH_VERBOSITY=10`) and attach the full output.\n",
      "Cause: 'arguments' object has no attribute 'posonlyargs'\n",
      "To silence this warning, decorate the function with @tf.autograph.experimental.do_not_convert\n",
      "1/1 [==============================] - ETA: 0s - loss: 0.0643 - payload_loss: 1.0000 - statistics_loss: 0.7515 - sequences_loss: 0.8984 - ipaddress_loss: 1.0005WARNING:tensorflow:AutoGraph could not transform <function Model.make_test_function.<locals>.test_function at 0x7f785be81c20> and will run it as-is.\n",
      "Please report this to the TensorFlow team. When filing the bug, set the verbosity to 10 (on Linux, `export AUTOGRAPH_VERBOSITY=10`) and attach the full output.\n",
      "Cause: 'arguments' object has no attribute 'posonlyargs'\n",
      "To silence this warning, decorate the function with @tf.autograph.experimental.do_not_convert\n"
     ]
    },
    {
     "name": "stderr",
     "output_type": "stream",
     "text": [
      "WARNING:tensorflow:AutoGraph could not transform <function Model.make_test_function.<locals>.test_function at 0x7f785be81c20> and will run it as-is.\n",
      "Please report this to the TensorFlow team. When filing the bug, set the verbosity to 10 (on Linux, `export AUTOGRAPH_VERBOSITY=10`) and attach the full output.\n",
      "Cause: 'arguments' object has no attribute 'posonlyargs'\n",
      "To silence this warning, decorate the function with @tf.autograph.experimental.do_not_convert\n"
     ]
    },
    {
     "name": "stdout",
     "output_type": "stream",
     "text": [
      "WARNING: AutoGraph could not transform <function Model.make_test_function.<locals>.test_function at 0x7f785be81c20> and will run it as-is.\n",
      "Please report this to the TensorFlow team. When filing the bug, set the verbosity to 10 (on Linux, `export AUTOGRAPH_VERBOSITY=10`) and attach the full output.\n",
      "Cause: 'arguments' object has no attribute 'posonlyargs'\n",
      "To silence this warning, decorate the function with @tf.autograph.experimental.do_not_convert\n",
      "1/1 [==============================] - 4s 4s/step - loss: 0.0643 - payload_loss: 1.0000 - statistics_loss: 0.7515 - sequences_loss: 0.8984 - ipaddress_loss: 1.0005 - val_loss: 0.0866 - val_payload_loss: 0.9889 - val_statistics_loss: 1.6523 - val_sequences_loss: 2.6603 - val_ipaddress_loss: 0.7642\n",
      "Epoch 2/3\n",
      "1/1 [==============================] - 0s 91ms/step - loss: 0.0635 - payload_loss: 0.9964 - statistics_loss: 0.7294 - sequences_loss: 0.8980 - ipaddress_loss: 0.9740 - val_loss: 0.0846 - val_payload_loss: 0.9786 - val_statistics_loss: 1.6048 - val_sequences_loss: 2.6569 - val_ipaddress_loss: 0.6993\n",
      "Epoch 3/3\n",
      "1/1 [==============================] - 0s 88ms/step - loss: 0.0612 - payload_loss: 0.9842 - statistics_loss: 0.6863 - sequences_loss: 0.8963 - ipaddress_loss: 0.8901 - val_loss: 0.0811 - val_payload_loss: 0.9663 - val_statistics_loss: 1.5222 - val_sequences_loss: 2.6499 - val_ipaddress_loss: 0.5815\n",
      "Epoch 1/3\n",
      "WARNING:tensorflow:AutoGraph could not transform <function Model.make_train_function.<locals>.train_function at 0x7f781855c680> and will run it as-is.\n",
      "Please report this to the TensorFlow team. When filing the bug, set the verbosity to 10 (on Linux, `export AUTOGRAPH_VERBOSITY=10`) and attach the full output.\n",
      "Cause: 'arguments' object has no attribute 'posonlyargs'\n",
      "To silence this warning, decorate the function with @tf.autograph.experimental.do_not_convert\n"
     ]
    },
    {
     "name": "stderr",
     "output_type": "stream",
     "text": [
      "WARNING:tensorflow:AutoGraph could not transform <function Model.make_train_function.<locals>.train_function at 0x7f781855c680> and will run it as-is.\n",
      "Please report this to the TensorFlow team. When filing the bug, set the verbosity to 10 (on Linux, `export AUTOGRAPH_VERBOSITY=10`) and attach the full output.\n",
      "Cause: 'arguments' object has no attribute 'posonlyargs'\n",
      "To silence this warning, decorate the function with @tf.autograph.experimental.do_not_convert\n"
     ]
    },
    {
     "name": "stdout",
     "output_type": "stream",
     "text": [
      "WARNING: AutoGraph could not transform <function Model.make_train_function.<locals>.train_function at 0x7f781855c680> and will run it as-is.\n",
      "Please report this to the TensorFlow team. When filing the bug, set the verbosity to 10 (on Linux, `export AUTOGRAPH_VERBOSITY=10`) and attach the full output.\n",
      "Cause: 'arguments' object has no attribute 'posonlyargs'\n",
      "To silence this warning, decorate the function with @tf.autograph.experimental.do_not_convert\n",
      "1/1 [==============================] - ETA: 0s - loss: 0.0645 - payload_loss: 1.0022 - statistics_loss: 0.7535 - sequences_loss: 0.8988 - ipaddress_loss: 1.0025WARNING:tensorflow:AutoGraph could not transform <function Model.make_test_function.<locals>.test_function at 0x7f78606aee60> and will run it as-is.\n",
      "Please report this to the TensorFlow team. When filing the bug, set the verbosity to 10 (on Linux, `export AUTOGRAPH_VERBOSITY=10`) and attach the full output.\n",
      "Cause: 'arguments' object has no attribute 'posonlyargs'\n",
      "To silence this warning, decorate the function with @tf.autograph.experimental.do_not_convert\n"
     ]
    },
    {
     "name": "stderr",
     "output_type": "stream",
     "text": [
      "WARNING:tensorflow:AutoGraph could not transform <function Model.make_test_function.<locals>.test_function at 0x7f78606aee60> and will run it as-is.\n",
      "Please report this to the TensorFlow team. When filing the bug, set the verbosity to 10 (on Linux, `export AUTOGRAPH_VERBOSITY=10`) and attach the full output.\n",
      "Cause: 'arguments' object has no attribute 'posonlyargs'\n",
      "To silence this warning, decorate the function with @tf.autograph.experimental.do_not_convert\n"
     ]
    },
    {
     "name": "stdout",
     "output_type": "stream",
     "text": [
      "WARNING: AutoGraph could not transform <function Model.make_test_function.<locals>.test_function at 0x7f78606aee60> and will run it as-is.\n",
      "Please report this to the TensorFlow team. When filing the bug, set the verbosity to 10 (on Linux, `export AUTOGRAPH_VERBOSITY=10`) and attach the full output.\n",
      "Cause: 'arguments' object has no attribute 'posonlyargs'\n",
      "To silence this warning, decorate the function with @tf.autograph.experimental.do_not_convert\n",
      "1/1 [==============================] - 4s 4s/step - loss: 0.0645 - payload_loss: 1.0022 - statistics_loss: 0.7535 - sequences_loss: 0.8988 - ipaddress_loss: 1.0025 - val_loss: 0.0869 - val_payload_loss: 0.9936 - val_statistics_loss: 1.6697 - val_sequences_loss: 2.6650 - val_ipaddress_loss: 0.7599\n",
      "Epoch 2/3\n",
      "1/1 [==============================] - 0s 97ms/step - loss: 0.0636 - payload_loss: 0.9996 - statistics_loss: 0.7387 - sequences_loss: 0.8986 - ipaddress_loss: 0.9635 - val_loss: 0.0847 - val_payload_loss: 0.9887 - val_statistics_loss: 1.6132 - val_sequences_loss: 2.6636 - val_ipaddress_loss: 0.6808\n",
      "Epoch 3/3\n",
      "1/1 [==============================] - 0s 93ms/step - loss: 0.0612 - payload_loss: 0.9936 - statistics_loss: 0.6998 - sequences_loss: 0.8977 - ipaddress_loss: 0.8559 - val_loss: 0.0814 - val_payload_loss: 0.9797 - val_statistics_loss: 1.5047 - val_sequences_loss: 2.6615 - val_ipaddress_loss: 0.5842\n",
      "Epoch 1/3\n",
      "WARNING:tensorflow:AutoGraph could not transform <function Model.make_train_function.<locals>.train_function at 0x7f7818680950> and will run it as-is.\n",
      "Please report this to the TensorFlow team. When filing the bug, set the verbosity to 10 (on Linux, `export AUTOGRAPH_VERBOSITY=10`) and attach the full output.\n",
      "Cause: 'arguments' object has no attribute 'posonlyargs'\n",
      "To silence this warning, decorate the function with @tf.autograph.experimental.do_not_convert\n"
     ]
    },
    {
     "name": "stderr",
     "output_type": "stream",
     "text": [
      "WARNING:tensorflow:AutoGraph could not transform <function Model.make_train_function.<locals>.train_function at 0x7f7818680950> and will run it as-is.\n",
      "Please report this to the TensorFlow team. When filing the bug, set the verbosity to 10 (on Linux, `export AUTOGRAPH_VERBOSITY=10`) and attach the full output.\n",
      "Cause: 'arguments' object has no attribute 'posonlyargs'\n",
      "To silence this warning, decorate the function with @tf.autograph.experimental.do_not_convert\n"
     ]
    },
    {
     "name": "stdout",
     "output_type": "stream",
     "text": [
      "WARNING: AutoGraph could not transform <function Model.make_train_function.<locals>.train_function at 0x7f7818680950> and will run it as-is.\n",
      "Please report this to the TensorFlow team. When filing the bug, set the verbosity to 10 (on Linux, `export AUTOGRAPH_VERBOSITY=10`) and attach the full output.\n",
      "Cause: 'arguments' object has no attribute 'posonlyargs'\n",
      "To silence this warning, decorate the function with @tf.autograph.experimental.do_not_convert\n",
      "1/1 [==============================] - ETA: 0s - loss: 0.0643 - payload_loss: 0.9989 - statistics_loss: 0.7521 - sequences_loss: 0.8991 - ipaddress_loss: 1.0004WARNING:tensorflow:AutoGraph could not transform <function Model.make_test_function.<locals>.test_function at 0x7f786a4c0ef0> and will run it as-is.\n",
      "Please report this to the TensorFlow team. When filing the bug, set the verbosity to 10 (on Linux, `export AUTOGRAPH_VERBOSITY=10`) and attach the full output.\n",
      "Cause: 'arguments' object has no attribute 'posonlyargs'\n",
      "To silence this warning, decorate the function with @tf.autograph.experimental.do_not_convert\n"
     ]
    },
    {
     "name": "stderr",
     "output_type": "stream",
     "text": [
      "WARNING:tensorflow:AutoGraph could not transform <function Model.make_test_function.<locals>.test_function at 0x7f786a4c0ef0> and will run it as-is.\n",
      "Please report this to the TensorFlow team. When filing the bug, set the verbosity to 10 (on Linux, `export AUTOGRAPH_VERBOSITY=10`) and attach the full output.\n",
      "Cause: 'arguments' object has no attribute 'posonlyargs'\n",
      "To silence this warning, decorate the function with @tf.autograph.experimental.do_not_convert\n"
     ]
    },
    {
     "name": "stdout",
     "output_type": "stream",
     "text": [
      "WARNING: AutoGraph could not transform <function Model.make_test_function.<locals>.test_function at 0x7f786a4c0ef0> and will run it as-is.\n",
      "Please report this to the TensorFlow team. When filing the bug, set the verbosity to 10 (on Linux, `export AUTOGRAPH_VERBOSITY=10`) and attach the full output.\n",
      "Cause: 'arguments' object has no attribute 'posonlyargs'\n",
      "To silence this warning, decorate the function with @tf.autograph.experimental.do_not_convert\n",
      "1/1 [==============================] - 4s 4s/step - loss: 0.0643 - payload_loss: 0.9989 - statistics_loss: 0.7521 - sequences_loss: 0.8991 - ipaddress_loss: 1.0004 - val_loss: 0.0864 - val_payload_loss: 0.9900 - val_statistics_loss: 1.6642 - val_sequences_loss: 2.6629 - val_ipaddress_loss: 0.7417\n",
      "Epoch 2/3\n",
      "1/1 [==============================] - 0s 90ms/step - loss: 0.0632 - payload_loss: 0.9962 - statistics_loss: 0.7278 - sequences_loss: 0.8987 - ipaddress_loss: 0.9542 - val_loss: 0.0837 - val_payload_loss: 0.9813 - val_statistics_loss: 1.6011 - val_sequences_loss: 2.6628 - val_ipaddress_loss: 0.6372\n",
      "Epoch 3/3\n",
      "1/1 [==============================] - 0s 86ms/step - loss: 0.0602 - payload_loss: 0.9835 - statistics_loss: 0.6778 - sequences_loss: 0.8979 - ipaddress_loss: 0.8337 - val_loss: 0.0807 - val_payload_loss: 0.9735 - val_statistics_loss: 1.5288 - val_sequences_loss: 2.6610 - val_ipaddress_loss: 0.5265\n"
     ]
    }
   ],
   "source": [
    "for l1 in [32, 64, 128, 256]:\n",
    "    for l4 in [32, 64, 128, 256]:\n",
    "        shapes = X_train.shape[1], P, St, Se, I\n",
    "        inputs, outputs, loss, weights = build_model(shapes, l1, l4)\n",
    "        # Initialize the classifier\n",
    "        mae = MultimodalAE(model_path=f'../data/{task}/mae/gridsearch_{l1}_{l4}_k{K}',\n",
    "                        io=(inputs, outputs), losses=loss, weights=weights)\n",
    "        # Fit the multi-modal autoencoder\n",
    "        mae.fit(training_data=(X_train, X_train), y_sizes=[P, St, Se, I], batch_size=256, \n",
    "                scale_data=True, epochs=3, validation_data=(X_val, X_val), save=False, \n",
    "                verbose=1)\n",
    "\n",
    "        embeddings = np.vstack([mae.transform(X_train), mae.transform(X_val)])\n",
    "        # Save the embeddings\n",
    "        embeddings = pd.DataFrame(embeddings, index=np.hstack(kfolds[K][:2])[:200])\n",
    "        embeddings[['label']] = np.hstack(kfolds[K][2:])[:200]\n",
    "        embeddings.to_csv(f'../data/{task}/embeddings/gridsearch_{l1}_{l4}_k{K}.csv')\n",
    "        embeddings=pd.read_csv(f'../data/{task}/embeddings/gridsearch_{l1}_{l4}_k{K}.csv', \n",
    "                                index_col=[0])"
   ]
  },
  {
   "cell_type": "code",
   "execution_count": 22,
   "id": "d65ace4b",
   "metadata": {},
   "outputs": [],
   "source": []
  },
  {
   "cell_type": "code",
   "execution_count": 23,
   "id": "80d9f169",
   "metadata": {},
   "outputs": [],
   "source": []
  },
  {
   "cell_type": "code",
   "execution_count": null,
   "id": "d9e3074f",
   "metadata": {},
   "outputs": [],
   "source": []
  }
 ],
 "metadata": {
  "kernelspec": {
   "display_name": "Python 3.7.9 ('bigdatalab_cpu_202212')",
   "language": "python",
   "name": "python3"
  },
  "language_info": {
   "codemirror_mode": {
    "name": "ipython",
    "version": 3
   },
   "file_extension": ".py",
   "mimetype": "text/x-python",
   "name": "python",
   "nbconvert_exporter": "python",
   "pygments_lexer": "ipython3",
   "version": "3.7.9"
  },
  "vscode": {
   "interpreter": {
    "hash": "7752e352c355b3ac8de75594c3972c357c3b0b08f713d3e5a9c1d8631c75ec52"
   }
  }
 },
 "nbformat": 4,
 "nbformat_minor": 5
}
